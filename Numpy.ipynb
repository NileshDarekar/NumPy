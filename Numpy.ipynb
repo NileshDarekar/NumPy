{
 "cells": [
  {
   "cell_type": "markdown",
   "id": "905a11dc",
   "metadata": {},
   "source": [
    "## Numerical Python"
   ]
  },
  {
   "cell_type": "code",
   "execution_count": 2,
   "id": "5164e7d6",
   "metadata": {},
   "outputs": [],
   "source": [
    "import numpy as np "
   ]
  },
  {
   "cell_type": "code",
   "execution_count": 3,
   "id": "5e217b4b",
   "metadata": {},
   "outputs": [
    {
     "data": {
      "text/plain": [
       "array(78)"
      ]
     },
     "execution_count": 3,
     "metadata": {},
     "output_type": "execute_result"
    }
   ],
   "source": [
    "np.array(78)"
   ]
  },
  {
   "cell_type": "markdown",
   "id": "1f630b08",
   "metadata": {},
   "source": [
    "## NP arrays : 50 times faster than the list & also take lesser space"
   ]
  },
  {
   "cell_type": "code",
   "execution_count": 3,
   "id": "39381961",
   "metadata": {},
   "outputs": [],
   "source": [
    "porosity = [0.2,0.4,0.8,0.6]"
   ]
  },
  {
   "cell_type": "code",
   "execution_count": 4,
   "id": "b6f86531",
   "metadata": {},
   "outputs": [
    {
     "data": {
      "text/plain": [
       "list"
      ]
     },
     "execution_count": 4,
     "metadata": {},
     "output_type": "execute_result"
    }
   ],
   "source": [
    "type(porosity)"
   ]
  },
  {
   "cell_type": "code",
   "execution_count": 5,
   "id": "1b1bba0c",
   "metadata": {},
   "outputs": [],
   "source": [
    "arr_porosity  = np.array(porosity)"
   ]
  },
  {
   "cell_type": "code",
   "execution_count": 6,
   "id": "52903b9b",
   "metadata": {},
   "outputs": [
    {
     "data": {
      "text/plain": [
       "array([0.2, 0.4, 0.8, 0.6])"
      ]
     },
     "execution_count": 6,
     "metadata": {},
     "output_type": "execute_result"
    }
   ],
   "source": [
    "arr_porosity"
   ]
  },
  {
   "cell_type": "code",
   "execution_count": 7,
   "id": "3faf909d",
   "metadata": {},
   "outputs": [
    {
     "data": {
      "text/plain": [
       "numpy.ndarray"
      ]
     },
     "execution_count": 7,
     "metadata": {},
     "output_type": "execute_result"
    }
   ],
   "source": [
    "type(arr_porosity)"
   ]
  },
  {
   "cell_type": "code",
   "execution_count": 8,
   "id": "a8b9ff04",
   "metadata": {},
   "outputs": [],
   "source": [
    "tup_POR = tuple(porosity)"
   ]
  },
  {
   "cell_type": "code",
   "execution_count": 9,
   "id": "6878ff77",
   "metadata": {},
   "outputs": [
    {
     "data": {
      "text/plain": [
       "(0.2, 0.4, 0.8, 0.6)"
      ]
     },
     "execution_count": 9,
     "metadata": {},
     "output_type": "execute_result"
    }
   ],
   "source": [
    "tup_POR"
   ]
  },
  {
   "cell_type": "code",
   "execution_count": 10,
   "id": "9e63bc52",
   "metadata": {},
   "outputs": [
    {
     "data": {
      "text/plain": [
       "array([0.2, 0.4, 0.8, 0.6])"
      ]
     },
     "execution_count": 10,
     "metadata": {},
     "output_type": "execute_result"
    }
   ],
   "source": [
    "np.array(tup_POR)"
   ]
  },
  {
   "cell_type": "markdown",
   "id": "1e2e649f",
   "metadata": {},
   "source": [
    "Arrays give same results for list & Tuple"
   ]
  },
  {
   "cell_type": "markdown",
   "id": "a092915d",
   "metadata": {},
   "source": [
    "## Dimenstion"
   ]
  },
  {
   "cell_type": "markdown",
   "id": "f189a431",
   "metadata": {},
   "source": [
    "Zero dimention (0d) : Array having only one element"
   ]
  },
  {
   "cell_type": "code",
   "execution_count": 14,
   "id": "a3657c58",
   "metadata": {},
   "outputs": [],
   "source": [
    "arr_0d = np.array(45)"
   ]
  },
  {
   "cell_type": "code",
   "execution_count": 17,
   "id": "a89a1a3a",
   "metadata": {},
   "outputs": [
    {
     "data": {
      "text/plain": [
       "array(45)"
      ]
     },
     "execution_count": 17,
     "metadata": {},
     "output_type": "execute_result"
    }
   ],
   "source": [
    "arr_0d"
   ]
  },
  {
   "cell_type": "code",
   "execution_count": 15,
   "id": "931e05f5",
   "metadata": {},
   "outputs": [
    {
     "data": {
      "text/plain": [
       "0"
      ]
     },
     "execution_count": 15,
     "metadata": {},
     "output_type": "execute_result"
    }
   ],
   "source": [
    "arr_0d.ndim"
   ]
  },
  {
   "cell_type": "code",
   "execution_count": 16,
   "id": "efb29dcf",
   "metadata": {},
   "outputs": [],
   "source": [
    "arr_1d = np.array((1,2,3,4,5))"
   ]
  },
  {
   "cell_type": "code",
   "execution_count": 18,
   "id": "3bbfdb3e",
   "metadata": {},
   "outputs": [
    {
     "data": {
      "text/plain": [
       "array([1, 2, 3, 4, 5])"
      ]
     },
     "execution_count": 18,
     "metadata": {},
     "output_type": "execute_result"
    }
   ],
   "source": [
    "arr_1d"
   ]
  },
  {
   "cell_type": "code",
   "execution_count": 19,
   "id": "516370d4",
   "metadata": {},
   "outputs": [
    {
     "data": {
      "text/plain": [
       "1"
      ]
     },
     "execution_count": 19,
     "metadata": {},
     "output_type": "execute_result"
    }
   ],
   "source": [
    "arr_1d.ndim"
   ]
  },
  {
   "cell_type": "code",
   "execution_count": null,
   "id": "75c01a86",
   "metadata": {},
   "outputs": [],
   "source": [
    "# 2d array\n",
    "# 1d array will be elements of 2D array"
   ]
  },
  {
   "cell_type": "code",
   "execution_count": 24,
   "id": "6cbe3bee",
   "metadata": {},
   "outputs": [
    {
     "name": "stderr",
     "output_type": "stream",
     "text": [
      "<ipython-input-24-dfcfee30a548>:1: VisibleDeprecationWarning: Creating an ndarray from ragged nested sequences (which is a list-or-tuple of lists-or-tuples-or ndarrays with different lengths or shapes) is deprecated. If you meant to do this, you must specify 'dtype=object' when creating the ndarray.\n",
      "  arr_2d = np.array([[1,2,3],[4,5,6],[4,5,67,78]])\n"
     ]
    }
   ],
   "source": [
    "arr_2d = np.array([[1,2,3],[4,5,6],[4,5,67,78]])"
   ]
  },
  {
   "cell_type": "code",
   "execution_count": 25,
   "id": "d5b4dad4",
   "metadata": {},
   "outputs": [
    {
     "data": {
      "text/plain": [
       "array([list([1, 2, 3]), list([4, 5, 6]), list([4, 5, 67, 78])],\n",
       "      dtype=object)"
      ]
     },
     "execution_count": 25,
     "metadata": {},
     "output_type": "execute_result"
    }
   ],
   "source": [
    "arr_2d"
   ]
  },
  {
   "cell_type": "code",
   "execution_count": 26,
   "id": "727f0da5",
   "metadata": {},
   "outputs": [
    {
     "data": {
      "text/plain": [
       "1"
      ]
     },
     "execution_count": 26,
     "metadata": {},
     "output_type": "execute_result"
    }
   ],
   "source": [
    "arr_2d.ndim"
   ]
  },
  {
   "cell_type": "code",
   "execution_count": 28,
   "id": "dc363343",
   "metadata": {},
   "outputs": [
    {
     "data": {
      "text/plain": [
       "1"
      ]
     },
     "execution_count": 28,
     "metadata": {},
     "output_type": "execute_result"
    }
   ],
   "source": [
    "arr_2d.ndim"
   ]
  },
  {
   "cell_type": "code",
   "execution_count": 29,
   "id": "e90476b6",
   "metadata": {},
   "outputs": [],
   "source": [
    "arr_3d = np.array([[[1,2,3,4],[3,4,5,6],[6,7,8,9]],[[34,56,78,45],[98,54,32,12],[56,67,23,67]]])"
   ]
  },
  {
   "cell_type": "code",
   "execution_count": 30,
   "id": "ca5fda95",
   "metadata": {},
   "outputs": [
    {
     "data": {
      "text/plain": [
       "array([[[ 1,  2,  3,  4],\n",
       "        [ 3,  4,  5,  6],\n",
       "        [ 6,  7,  8,  9]],\n",
       "\n",
       "       [[34, 56, 78, 45],\n",
       "        [98, 54, 32, 12],\n",
       "        [56, 67, 23, 67]]])"
      ]
     },
     "execution_count": 30,
     "metadata": {},
     "output_type": "execute_result"
    }
   ],
   "source": [
    "arr_3d"
   ]
  },
  {
   "cell_type": "code",
   "execution_count": 31,
   "id": "1ed8aefc",
   "metadata": {},
   "outputs": [
    {
     "data": {
      "text/plain": [
       "3"
      ]
     },
     "execution_count": 31,
     "metadata": {},
     "output_type": "execute_result"
    }
   ],
   "source": [
    "arr_3d.ndim"
   ]
  },
  {
   "cell_type": "code",
   "execution_count": 32,
   "id": "7ce44802",
   "metadata": {},
   "outputs": [
    {
     "data": {
      "text/plain": [
       "array([[34, 56, 78, 45],\n",
       "       [98, 54, 32, 12],\n",
       "       [56, 67, 23, 67]])"
      ]
     },
     "execution_count": 32,
     "metadata": {},
     "output_type": "execute_result"
    }
   ],
   "source": [
    "arr_3d[1]"
   ]
  },
  {
   "cell_type": "code",
   "execution_count": 33,
   "id": "a81bc20c",
   "metadata": {},
   "outputs": [],
   "source": [
    "arr_4d = np.array([[[[1,2,3,4],[3,4,5,6],[6,7,8,9]],[[34,56,78,45],[98,54,32,12],[56,67,23,67]]],\n",
    "                  [[[11,22,343,42],[33,44,55,665],[656,73,8,9]],[[34,5326,78,4325],[98,5324,3232,12],[56,67,23,67]]]])"
   ]
  },
  {
   "cell_type": "code",
   "execution_count": 34,
   "id": "a97c64f3",
   "metadata": {},
   "outputs": [
    {
     "data": {
      "text/plain": [
       "array([[[[   1,    2,    3,    4],\n",
       "         [   3,    4,    5,    6],\n",
       "         [   6,    7,    8,    9]],\n",
       "\n",
       "        [[  34,   56,   78,   45],\n",
       "         [  98,   54,   32,   12],\n",
       "         [  56,   67,   23,   67]]],\n",
       "\n",
       "\n",
       "       [[[  11,   22,  343,   42],\n",
       "         [  33,   44,   55,  665],\n",
       "         [ 656,   73,    8,    9]],\n",
       "\n",
       "        [[  34, 5326,   78, 4325],\n",
       "         [  98, 5324, 3232,   12],\n",
       "         [  56,   67,   23,   67]]]])"
      ]
     },
     "execution_count": 34,
     "metadata": {},
     "output_type": "execute_result"
    }
   ],
   "source": [
    "arr_4d"
   ]
  },
  {
   "cell_type": "code",
   "execution_count": 35,
   "id": "de05ad9e",
   "metadata": {},
   "outputs": [
    {
     "data": {
      "text/plain": [
       "4"
      ]
     },
     "execution_count": 35,
     "metadata": {},
     "output_type": "execute_result"
    }
   ],
   "source": [
    "arr_4d.ndim"
   ]
  },
  {
   "cell_type": "code",
   "execution_count": 36,
   "id": "5d023707",
   "metadata": {},
   "outputs": [],
   "source": [
    "arr = np.array([[1,2,3,4,5,6],[2,3,4,5,6,7]],ndmin = 5)"
   ]
  },
  {
   "cell_type": "code",
   "execution_count": 37,
   "id": "e0628489",
   "metadata": {},
   "outputs": [
    {
     "data": {
      "text/plain": [
       "array([[[[[1, 2, 3, 4, 5, 6],\n",
       "          [2, 3, 4, 5, 6, 7]]]]])"
      ]
     },
     "execution_count": 37,
     "metadata": {},
     "output_type": "execute_result"
    }
   ],
   "source": [
    "arr"
   ]
  },
  {
   "cell_type": "code",
   "execution_count": 40,
   "id": "a04fcedf",
   "metadata": {},
   "outputs": [
    {
     "data": {
      "text/plain": [
       "5"
      ]
     },
     "execution_count": 40,
     "metadata": {},
     "output_type": "execute_result"
    }
   ],
   "source": [
    "arr.ndim"
   ]
  },
  {
   "cell_type": "markdown",
   "id": "c44f8d7c",
   "metadata": {},
   "source": [
    "## Checking Shape"
   ]
  },
  {
   "cell_type": "code",
   "execution_count": 8,
   "id": "fec73cb3",
   "metadata": {},
   "outputs": [],
   "source": [
    "import numpy as np "
   ]
  },
  {
   "cell_type": "code",
   "execution_count": 10,
   "id": "32e4a465",
   "metadata": {},
   "outputs": [],
   "source": [
    "arr = np.array([1,2,3])"
   ]
  },
  {
   "cell_type": "code",
   "execution_count": 11,
   "id": "bb7195d6",
   "metadata": {},
   "outputs": [
    {
     "data": {
      "text/plain": [
       "array([1, 2, 3])"
      ]
     },
     "execution_count": 11,
     "metadata": {},
     "output_type": "execute_result"
    }
   ],
   "source": [
    "arr"
   ]
  },
  {
   "cell_type": "code",
   "execution_count": 12,
   "id": "ad84dead",
   "metadata": {},
   "outputs": [
    {
     "data": {
      "text/plain": [
       "(3,)"
      ]
     },
     "execution_count": 12,
     "metadata": {},
     "output_type": "execute_result"
    }
   ],
   "source": [
    "arr.shape"
   ]
  },
  {
   "cell_type": "code",
   "execution_count": 13,
   "id": "37f67df5",
   "metadata": {},
   "outputs": [],
   "source": [
    "arr_2d = np.array([[1,2,3],[4,5,6],[4,5,67],[3,4,5]])"
   ]
  },
  {
   "cell_type": "code",
   "execution_count": 14,
   "id": "5911a0fe",
   "metadata": {},
   "outputs": [
    {
     "data": {
      "text/plain": [
       "array([[ 1,  2,  3],\n",
       "       [ 4,  5,  6],\n",
       "       [ 4,  5, 67],\n",
       "       [ 3,  4,  5]])"
      ]
     },
     "execution_count": 14,
     "metadata": {},
     "output_type": "execute_result"
    }
   ],
   "source": [
    "arr_2d"
   ]
  },
  {
   "cell_type": "code",
   "execution_count": 15,
   "id": "9eaa433d",
   "metadata": {},
   "outputs": [
    {
     "data": {
      "text/plain": [
       "(4, 3)"
      ]
     },
     "execution_count": 15,
     "metadata": {},
     "output_type": "execute_result"
    }
   ],
   "source": [
    "arr_2d.shape"
   ]
  },
  {
   "cell_type": "code",
   "execution_count": 16,
   "id": "d379bdf5",
   "metadata": {},
   "outputs": [],
   "source": [
    "arr_3d = np.array([[[1,2,3,4],[3,4,5,6],[6,7,8,9]],[[34,56,78,45],[98,54,32,12],[56,67,23,67]]])"
   ]
  },
  {
   "cell_type": "code",
   "execution_count": 17,
   "id": "88b4659a",
   "metadata": {},
   "outputs": [
    {
     "data": {
      "text/plain": [
       "array([[[ 1,  2,  3,  4],\n",
       "        [ 3,  4,  5,  6],\n",
       "        [ 6,  7,  8,  9]],\n",
       "\n",
       "       [[34, 56, 78, 45],\n",
       "        [98, 54, 32, 12],\n",
       "        [56, 67, 23, 67]]])"
      ]
     },
     "execution_count": 17,
     "metadata": {},
     "output_type": "execute_result"
    }
   ],
   "source": [
    "arr_3d"
   ]
  },
  {
   "cell_type": "code",
   "execution_count": 18,
   "id": "04fdac02",
   "metadata": {},
   "outputs": [
    {
     "data": {
      "text/plain": [
       "(2, 3, 4)"
      ]
     },
     "execution_count": 18,
     "metadata": {},
     "output_type": "execute_result"
    }
   ],
   "source": [
    "arr_3d.shape"
   ]
  },
  {
   "cell_type": "code",
   "execution_count": 19,
   "id": "9e812b5a",
   "metadata": {},
   "outputs": [],
   "source": [
    "arr_4d = np.array([[[[1,2,3,4],[3,4,5,6],[6,7,8,9]],[[34,56,78,45],[98,54,32,12],[56,67,23,67]]],\n",
    "                  [[[11,22,343,42],[33,44,55,665],[656,73,8,9]],[[34,5326,78,4325],[98,5324,3232,12],[56,67,23,67]]]])"
   ]
  },
  {
   "cell_type": "code",
   "execution_count": 20,
   "id": "4ec1fe42",
   "metadata": {},
   "outputs": [
    {
     "data": {
      "text/plain": [
       "array([[[[   1,    2,    3,    4],\n",
       "         [   3,    4,    5,    6],\n",
       "         [   6,    7,    8,    9]],\n",
       "\n",
       "        [[  34,   56,   78,   45],\n",
       "         [  98,   54,   32,   12],\n",
       "         [  56,   67,   23,   67]]],\n",
       "\n",
       "\n",
       "       [[[  11,   22,  343,   42],\n",
       "         [  33,   44,   55,  665],\n",
       "         [ 656,   73,    8,    9]],\n",
       "\n",
       "        [[  34, 5326,   78, 4325],\n",
       "         [  98, 5324, 3232,   12],\n",
       "         [  56,   67,   23,   67]]]])"
      ]
     },
     "execution_count": 20,
     "metadata": {},
     "output_type": "execute_result"
    }
   ],
   "source": [
    "arr_4d"
   ]
  },
  {
   "cell_type": "code",
   "execution_count": 21,
   "id": "af29846b",
   "metadata": {},
   "outputs": [
    {
     "data": {
      "text/plain": [
       "(2, 2, 3, 4)"
      ]
     },
     "execution_count": 21,
     "metadata": {},
     "output_type": "execute_result"
    }
   ],
   "source": [
    "arr_4d.shape"
   ]
  },
  {
   "cell_type": "code",
   "execution_count": 22,
   "id": "ddf5f6a9",
   "metadata": {},
   "outputs": [],
   "source": [
    "arr = np.array([1,2,3,4,5,6],ndmin = 5)"
   ]
  },
  {
   "cell_type": "code",
   "execution_count": 23,
   "id": "4dce876d",
   "metadata": {},
   "outputs": [
    {
     "data": {
      "text/plain": [
       "array([[[[[1, 2, 3, 4, 5, 6]]]]])"
      ]
     },
     "execution_count": 23,
     "metadata": {},
     "output_type": "execute_result"
    }
   ],
   "source": [
    "arr"
   ]
  },
  {
   "cell_type": "code",
   "execution_count": 24,
   "id": "622734e5",
   "metadata": {},
   "outputs": [
    {
     "data": {
      "text/plain": [
       "(1, 1, 1, 1, 6)"
      ]
     },
     "execution_count": 24,
     "metadata": {},
     "output_type": "execute_result"
    }
   ],
   "source": [
    "arr.shape"
   ]
  },
  {
   "cell_type": "markdown",
   "id": "dd733122",
   "metadata": {},
   "source": [
    "## Generating Array"
   ]
  },
  {
   "cell_type": "markdown",
   "id": "bca32d45",
   "metadata": {},
   "source": [
    "np.arange(start,stop,step)"
   ]
  },
  {
   "cell_type": "code",
   "execution_count": 25,
   "id": "dd48c81d",
   "metadata": {},
   "outputs": [
    {
     "data": {
      "text/plain": [
       "[0, 2, 4, 6, 8]"
      ]
     },
     "execution_count": 25,
     "metadata": {},
     "output_type": "execute_result"
    }
   ],
   "source": [
    "list(range(0,10,2))"
   ]
  },
  {
   "cell_type": "code",
   "execution_count": 26,
   "id": "7f5832a1",
   "metadata": {},
   "outputs": [
    {
     "data": {
      "text/plain": [
       "array([0, 2, 4, 6, 8])"
      ]
     },
     "execution_count": 26,
     "metadata": {},
     "output_type": "execute_result"
    }
   ],
   "source": [
    "np.arange(0,10,2)"
   ]
  },
  {
   "cell_type": "markdown",
   "id": "8a244694",
   "metadata": {},
   "source": [
    "Make an array of pressure rating from 0 to 5000psi with a step size of 500"
   ]
  },
  {
   "cell_type": "code",
   "execution_count": 27,
   "id": "c00eba7b",
   "metadata": {},
   "outputs": [
    {
     "data": {
      "text/plain": [
       "array([   0,  500, 1000, 1500, 2000, 2500, 3000, 3500, 4000, 4500, 5000])"
      ]
     },
     "execution_count": 27,
     "metadata": {},
     "output_type": "execute_result"
    }
   ],
   "source": [
    "np.arange(0,5001,500)"
   ]
  },
  {
   "cell_type": "code",
   "execution_count": 28,
   "id": "30c9c203",
   "metadata": {},
   "outputs": [],
   "source": [
    "pressure = np.arange(0,5001,500)"
   ]
  },
  {
   "cell_type": "code",
   "execution_count": 29,
   "id": "26a95df7",
   "metadata": {},
   "outputs": [
    {
     "data": {
      "text/plain": [
       "array([   0,  500, 1000, 1500, 2000, 2500, 3000, 3500, 4000, 4500, 5000])"
      ]
     },
     "execution_count": 29,
     "metadata": {},
     "output_type": "execute_result"
    }
   ],
   "source": [
    "pressure"
   ]
  },
  {
   "cell_type": "code",
   "execution_count": 30,
   "id": "542ff9f3",
   "metadata": {},
   "outputs": [
    {
     "data": {
      "text/plain": [
       "1"
      ]
     },
     "execution_count": 30,
     "metadata": {},
     "output_type": "execute_result"
    }
   ],
   "source": [
    "pressure.ndim"
   ]
  },
  {
   "cell_type": "markdown",
   "id": "cc480ee7",
   "metadata": {},
   "source": [
    "## create linearly spaced arrays"
   ]
  },
  {
   "cell_type": "markdown",
   "id": "4e505a0d",
   "metadata": {},
   "source": [
    "## syntax: np.linspace(start,stop,number of points)\n",
    "#stop point is also included"
   ]
  },
  {
   "cell_type": "code",
   "execution_count": 31,
   "id": "ceabbad4",
   "metadata": {},
   "outputs": [],
   "source": [
    "saturations = np.linspace(0,1,100)"
   ]
  },
  {
   "cell_type": "code",
   "execution_count": 33,
   "id": "63ef9c6a",
   "metadata": {},
   "outputs": [
    {
     "data": {
      "text/plain": [
       "array([0.        , 0.01010101, 0.02020202, 0.03030303, 0.04040404,\n",
       "       0.05050505, 0.06060606, 0.07070707, 0.08080808, 0.09090909,\n",
       "       0.1010101 , 0.11111111, 0.12121212, 0.13131313, 0.14141414,\n",
       "       0.15151515, 0.16161616, 0.17171717, 0.18181818, 0.19191919,\n",
       "       0.2020202 , 0.21212121, 0.22222222, 0.23232323, 0.24242424,\n",
       "       0.25252525, 0.26262626, 0.27272727, 0.28282828, 0.29292929,\n",
       "       0.3030303 , 0.31313131, 0.32323232, 0.33333333, 0.34343434,\n",
       "       0.35353535, 0.36363636, 0.37373737, 0.38383838, 0.39393939,\n",
       "       0.4040404 , 0.41414141, 0.42424242, 0.43434343, 0.44444444,\n",
       "       0.45454545, 0.46464646, 0.47474747, 0.48484848, 0.49494949,\n",
       "       0.50505051, 0.51515152, 0.52525253, 0.53535354, 0.54545455,\n",
       "       0.55555556, 0.56565657, 0.57575758, 0.58585859, 0.5959596 ,\n",
       "       0.60606061, 0.61616162, 0.62626263, 0.63636364, 0.64646465,\n",
       "       0.65656566, 0.66666667, 0.67676768, 0.68686869, 0.6969697 ,\n",
       "       0.70707071, 0.71717172, 0.72727273, 0.73737374, 0.74747475,\n",
       "       0.75757576, 0.76767677, 0.77777778, 0.78787879, 0.7979798 ,\n",
       "       0.80808081, 0.81818182, 0.82828283, 0.83838384, 0.84848485,\n",
       "       0.85858586, 0.86868687, 0.87878788, 0.88888889, 0.8989899 ,\n",
       "       0.90909091, 0.91919192, 0.92929293, 0.93939394, 0.94949495,\n",
       "       0.95959596, 0.96969697, 0.97979798, 0.98989899, 1.        ])"
      ]
     },
     "execution_count": 33,
     "metadata": {},
     "output_type": "execute_result"
    }
   ],
   "source": [
    "saturations"
   ]
  },
  {
   "cell_type": "code",
   "execution_count": 34,
   "id": "80799358",
   "metadata": {},
   "outputs": [
    {
     "data": {
      "text/plain": [
       "100"
      ]
     },
     "execution_count": 34,
     "metadata": {},
     "output_type": "execute_result"
    }
   ],
   "source": [
    "len(saturations)"
   ]
  },
  {
   "cell_type": "markdown",
   "id": "6f5479b1",
   "metadata": {},
   "source": [
    "### zeroes, ones and identity matrices"
   ]
  },
  {
   "cell_type": "code",
   "execution_count": 35,
   "id": "dce3ba36",
   "metadata": {},
   "outputs": [],
   "source": [
    "## zeroes: np.zeroes((shape of array))"
   ]
  },
  {
   "cell_type": "code",
   "execution_count": 36,
   "id": "b29d3a23",
   "metadata": {},
   "outputs": [],
   "source": [
    "zero = np.zeros((5,4))"
   ]
  },
  {
   "cell_type": "code",
   "execution_count": 37,
   "id": "fae50c29",
   "metadata": {},
   "outputs": [
    {
     "data": {
      "text/plain": [
       "array([[0., 0., 0., 0.],\n",
       "       [0., 0., 0., 0.],\n",
       "       [0., 0., 0., 0.],\n",
       "       [0., 0., 0., 0.],\n",
       "       [0., 0., 0., 0.]])"
      ]
     },
     "execution_count": 37,
     "metadata": {},
     "output_type": "execute_result"
    }
   ],
   "source": [
    "zero"
   ]
  },
  {
   "cell_type": "code",
   "execution_count": 38,
   "id": "25c36fc5",
   "metadata": {},
   "outputs": [],
   "source": [
    "zero[2,2] = 4"
   ]
  },
  {
   "cell_type": "code",
   "execution_count": 39,
   "id": "be7c54a4",
   "metadata": {},
   "outputs": [
    {
     "data": {
      "text/plain": [
       "array([[0., 0., 0., 0.],\n",
       "       [0., 0., 0., 0.],\n",
       "       [0., 0., 4., 0.],\n",
       "       [0., 0., 0., 0.],\n",
       "       [0., 0., 0., 0.]])"
      ]
     },
     "execution_count": 39,
     "metadata": {},
     "output_type": "execute_result"
    }
   ],
   "source": [
    "zero"
   ]
  },
  {
   "cell_type": "code",
   "execution_count": 40,
   "id": "deca2fd2",
   "metadata": {},
   "outputs": [],
   "source": [
    "## Ones: np.ones((shape of array))"
   ]
  },
  {
   "cell_type": "code",
   "execution_count": 41,
   "id": "10bf971a",
   "metadata": {},
   "outputs": [],
   "source": [
    "p = np.ones((8,6))"
   ]
  },
  {
   "cell_type": "code",
   "execution_count": 42,
   "id": "f48c18ea",
   "metadata": {},
   "outputs": [
    {
     "data": {
      "text/plain": [
       "array([[1., 1., 1., 1., 1., 1.],\n",
       "       [1., 1., 1., 1., 1., 1.],\n",
       "       [1., 1., 1., 1., 1., 1.],\n",
       "       [1., 1., 1., 1., 1., 1.],\n",
       "       [1., 1., 1., 1., 1., 1.],\n",
       "       [1., 1., 1., 1., 1., 1.],\n",
       "       [1., 1., 1., 1., 1., 1.],\n",
       "       [1., 1., 1., 1., 1., 1.]])"
      ]
     },
     "execution_count": 42,
     "metadata": {},
     "output_type": "execute_result"
    }
   ],
   "source": [
    "p"
   ]
  },
  {
   "cell_type": "code",
   "execution_count": 43,
   "id": "0af32c51",
   "metadata": {},
   "outputs": [],
   "source": [
    "pressures = p*500"
   ]
  },
  {
   "cell_type": "code",
   "execution_count": 44,
   "id": "b11c463b",
   "metadata": {},
   "outputs": [
    {
     "data": {
      "text/plain": [
       "array([[500., 500., 500., 500., 500., 500.],\n",
       "       [500., 500., 500., 500., 500., 500.],\n",
       "       [500., 500., 500., 500., 500., 500.],\n",
       "       [500., 500., 500., 500., 500., 500.],\n",
       "       [500., 500., 500., 500., 500., 500.],\n",
       "       [500., 500., 500., 500., 500., 500.],\n",
       "       [500., 500., 500., 500., 500., 500.],\n",
       "       [500., 500., 500., 500., 500., 500.]])"
      ]
     },
     "execution_count": 44,
     "metadata": {},
     "output_type": "execute_result"
    }
   ],
   "source": [
    "pressures"
   ]
  },
  {
   "cell_type": "code",
   "execution_count": 45,
   "id": "64aca9d8",
   "metadata": {},
   "outputs": [],
   "source": [
    "p_3d = np.ones((2,3,4))"
   ]
  },
  {
   "cell_type": "code",
   "execution_count": 46,
   "id": "7bb4ea06",
   "metadata": {},
   "outputs": [
    {
     "data": {
      "text/plain": [
       "array([[[1., 1., 1., 1.],\n",
       "        [1., 1., 1., 1.],\n",
       "        [1., 1., 1., 1.]],\n",
       "\n",
       "       [[1., 1., 1., 1.],\n",
       "        [1., 1., 1., 1.],\n",
       "        [1., 1., 1., 1.]]])"
      ]
     },
     "execution_count": 46,
     "metadata": {},
     "output_type": "execute_result"
    }
   ],
   "source": [
    "p_3d"
   ]
  },
  {
   "cell_type": "code",
   "execution_count": 47,
   "id": "91d93a44",
   "metadata": {},
   "outputs": [],
   "source": [
    "i = np.eye(5)"
   ]
  },
  {
   "cell_type": "code",
   "execution_count": 48,
   "id": "91b69dca",
   "metadata": {},
   "outputs": [
    {
     "data": {
      "text/plain": [
       "array([[1., 0., 0., 0., 0.],\n",
       "       [0., 1., 0., 0., 0.],\n",
       "       [0., 0., 1., 0., 0.],\n",
       "       [0., 0., 0., 1., 0.],\n",
       "       [0., 0., 0., 0., 1.]])"
      ]
     },
     "execution_count": 48,
     "metadata": {},
     "output_type": "execute_result"
    }
   ],
   "source": [
    "i"
   ]
  },
  {
   "cell_type": "code",
   "execution_count": 49,
   "id": "2fc36d24",
   "metadata": {},
   "outputs": [
    {
     "data": {
      "text/plain": [
       "array([[4., 2., 2., 2., 2.],\n",
       "       [2., 4., 2., 2., 2.],\n",
       "       [2., 2., 4., 2., 2.],\n",
       "       [2., 2., 2., 4., 2.],\n",
       "       [2., 2., 2., 2., 4.]])"
      ]
     },
     "execution_count": 49,
     "metadata": {},
     "output_type": "execute_result"
    }
   ],
   "source": [
    "i*2 +2"
   ]
  },
  {
   "cell_type": "code",
   "execution_count": 50,
   "id": "624ddf18",
   "metadata": {},
   "outputs": [],
   "source": [
    "arr = np.array([1,23,45,67,'hello','jaiyesh','last'])"
   ]
  },
  {
   "cell_type": "code",
   "execution_count": 51,
   "id": "2dab13a3",
   "metadata": {},
   "outputs": [
    {
     "data": {
      "text/plain": [
       "'1last'"
      ]
     },
     "execution_count": 51,
     "metadata": {},
     "output_type": "execute_result"
    }
   ],
   "source": [
    "arr[0]+arr[-1]"
   ]
  },
  {
   "cell_type": "code",
   "execution_count": 52,
   "id": "45c8be84",
   "metadata": {},
   "outputs": [],
   "source": [
    "## int, float, string"
   ]
  },
  {
   "cell_type": "code",
   "execution_count": 53,
   "id": "c671f92e",
   "metadata": {},
   "outputs": [],
   "source": [
    "arr = np.array([1,2,3])"
   ]
  },
  {
   "cell_type": "code",
   "execution_count": 54,
   "id": "ea9013e5",
   "metadata": {},
   "outputs": [
    {
     "data": {
      "text/plain": [
       "array([1, 2, 3])"
      ]
     },
     "execution_count": 54,
     "metadata": {},
     "output_type": "execute_result"
    }
   ],
   "source": [
    "arr"
   ]
  },
  {
   "cell_type": "code",
   "execution_count": 55,
   "id": "22d71113",
   "metadata": {},
   "outputs": [],
   "source": [
    "arr = np.array([1,2,3,4.2])"
   ]
  },
  {
   "cell_type": "code",
   "execution_count": 56,
   "id": "d9a2302e",
   "metadata": {},
   "outputs": [
    {
     "data": {
      "text/plain": [
       "array([1. , 2. , 3. , 4.2])"
      ]
     },
     "execution_count": 56,
     "metadata": {},
     "output_type": "execute_result"
    }
   ],
   "source": [
    "arr"
   ]
  },
  {
   "cell_type": "code",
   "execution_count": 57,
   "id": "28410db0",
   "metadata": {},
   "outputs": [],
   "source": [
    "arr = np.array([1,2,3,4.2,'hello'])"
   ]
  },
  {
   "cell_type": "code",
   "execution_count": 58,
   "id": "64c51841",
   "metadata": {},
   "outputs": [
    {
     "data": {
      "text/plain": [
       "array(['1', '2', '3', '4.2', 'hello'], dtype='<U32')"
      ]
     },
     "execution_count": 58,
     "metadata": {},
     "output_type": "execute_result"
    }
   ],
   "source": [
    "arr"
   ]
  },
  {
   "cell_type": "markdown",
   "id": "ac76595b",
   "metadata": {},
   "source": [
    "## Slicing"
   ]
  },
  {
   "cell_type": "code",
   "execution_count": 59,
   "id": "b25d8033",
   "metadata": {},
   "outputs": [],
   "source": [
    "#syntax: array[start:stop:step]"
   ]
  },
  {
   "cell_type": "code",
   "execution_count": 60,
   "id": "2a71dac9",
   "metadata": {},
   "outputs": [],
   "source": [
    "arr = np.array([1,2,3,5,56,56,56,76,7,34,54,56,67])"
   ]
  },
  {
   "cell_type": "code",
   "execution_count": 61,
   "id": "263b8854",
   "metadata": {},
   "outputs": [
    {
     "data": {
      "text/plain": [
       "array([ 1,  2,  3,  5, 56, 56, 56, 76,  7, 34, 54, 56, 67])"
      ]
     },
     "execution_count": 61,
     "metadata": {},
     "output_type": "execute_result"
    }
   ],
   "source": [
    "arr"
   ]
  },
  {
   "cell_type": "code",
   "execution_count": 62,
   "id": "6095c0d6",
   "metadata": {},
   "outputs": [
    {
     "data": {
      "text/plain": [
       "array([ 5, 56, 56, 56, 76])"
      ]
     },
     "execution_count": 62,
     "metadata": {},
     "output_type": "execute_result"
    }
   ],
   "source": [
    "arr[3:8]"
   ]
  },
  {
   "cell_type": "code",
   "execution_count": 63,
   "id": "41a6e200",
   "metadata": {},
   "outputs": [
    {
     "data": {
      "text/plain": [
       "array([67])"
      ]
     },
     "execution_count": 63,
     "metadata": {},
     "output_type": "execute_result"
    }
   ],
   "source": [
    "arr[-1:]"
   ]
  },
  {
   "cell_type": "code",
   "execution_count": 64,
   "id": "203a3315",
   "metadata": {},
   "outputs": [
    {
     "data": {
      "text/plain": [
       "array([67, 56, 54, 34,  7, 76, 56, 56, 56,  5,  3,  2,  1])"
      ]
     },
     "execution_count": 64,
     "metadata": {},
     "output_type": "execute_result"
    }
   ],
   "source": [
    "arr[::-1]"
   ]
  },
  {
   "cell_type": "code",
   "execution_count": 65,
   "id": "b5a733c1",
   "metadata": {},
   "outputs": [],
   "source": [
    "arr = np.array([[1,2,3,4,5],[4,5,6,7,8],[12,34,56,67,85],[21,56,67,32,53]])"
   ]
  },
  {
   "cell_type": "code",
   "execution_count": 66,
   "id": "955c57d0",
   "metadata": {},
   "outputs": [
    {
     "data": {
      "text/plain": [
       "array([[ 1,  2,  3,  4,  5],\n",
       "       [ 4,  5,  6,  7,  8],\n",
       "       [12, 34, 56, 67, 85],\n",
       "       [21, 56, 67, 32, 53]])"
      ]
     },
     "execution_count": 66,
     "metadata": {},
     "output_type": "execute_result"
    }
   ],
   "source": [
    "arr"
   ]
  },
  {
   "cell_type": "code",
   "execution_count": 67,
   "id": "dad262f4",
   "metadata": {},
   "outputs": [
    {
     "data": {
      "text/plain": [
       "67"
      ]
     },
     "execution_count": 67,
     "metadata": {},
     "output_type": "execute_result"
    }
   ],
   "source": [
    "arr[2,3]"
   ]
  },
  {
   "cell_type": "code",
   "execution_count": 68,
   "id": "00ca99de",
   "metadata": {},
   "outputs": [
    {
     "data": {
      "text/plain": [
       "array([[ 6,  7],\n",
       "       [56, 67]])"
      ]
     },
     "execution_count": 68,
     "metadata": {},
     "output_type": "execute_result"
    }
   ],
   "source": [
    "arr[1:3,2:4]"
   ]
  },
  {
   "cell_type": "code",
   "execution_count": 69,
   "id": "74c134c6",
   "metadata": {},
   "outputs": [
    {
     "data": {
      "text/plain": [
       "array([[ 8,  7,  6,  5,  4],\n",
       "       [85, 67, 56, 34, 12],\n",
       "       [53, 32, 67, 56, 21]])"
      ]
     },
     "execution_count": 69,
     "metadata": {},
     "output_type": "execute_result"
    }
   ],
   "source": [
    "arr[-3:,-1::-1]"
   ]
  },
  {
   "cell_type": "code",
   "execution_count": 70,
   "id": "f70f6bc3",
   "metadata": {},
   "outputs": [],
   "source": [
    "ar = np.array([[[1,2,3],[2,3,4]],[[34,45,56],[34,78,23]],[[23,45,67],[56,67,45]]])"
   ]
  },
  {
   "cell_type": "code",
   "execution_count": 71,
   "id": "11b6890c",
   "metadata": {},
   "outputs": [
    {
     "data": {
      "text/plain": [
       "array([[[ 1,  2,  3],\n",
       "        [ 2,  3,  4]],\n",
       "\n",
       "       [[34, 45, 56],\n",
       "        [34, 78, 23]],\n",
       "\n",
       "       [[23, 45, 67],\n",
       "        [56, 67, 45]]])"
      ]
     },
     "execution_count": 71,
     "metadata": {},
     "output_type": "execute_result"
    }
   ],
   "source": [
    "ar"
   ]
  },
  {
   "cell_type": "code",
   "execution_count": 72,
   "id": "2b90a0a8",
   "metadata": {},
   "outputs": [
    {
     "data": {
      "text/plain": [
       "(3, 2, 3)"
      ]
     },
     "execution_count": 72,
     "metadata": {},
     "output_type": "execute_result"
    }
   ],
   "source": [
    "ar.shape"
   ]
  },
  {
   "cell_type": "code",
   "execution_count": 73,
   "id": "213a9ec9",
   "metadata": {},
   "outputs": [],
   "source": [
    "## visualization"
   ]
  },
  {
   "cell_type": "code",
   "execution_count": 74,
   "id": "bd1ef612",
   "metadata": {},
   "outputs": [],
   "source": [
    "perm = np.array([[13,23,32,43,54],[43,55,60,7,8],[12,34,45,77,87],[2,55,39,82,49]])"
   ]
  },
  {
   "cell_type": "code",
   "execution_count": 75,
   "id": "925be5de",
   "metadata": {},
   "outputs": [
    {
     "data": {
      "text/plain": [
       "array([[13, 23, 32, 43, 54],\n",
       "       [43, 55, 60,  7,  8],\n",
       "       [12, 34, 45, 77, 87],\n",
       "       [ 2, 55, 39, 82, 49]])"
      ]
     },
     "execution_count": 75,
     "metadata": {},
     "output_type": "execute_result"
    }
   ],
   "source": [
    "perm"
   ]
  },
  {
   "cell_type": "code",
   "execution_count": 76,
   "id": "1a0f76f3",
   "metadata": {},
   "outputs": [],
   "source": [
    "import matplotlib.pyplot as plt\n",
    "import seaborn as sns"
   ]
  },
  {
   "cell_type": "code",
   "execution_count": 77,
   "id": "4a9b4101",
   "metadata": {},
   "outputs": [
    {
     "data": {
      "text/plain": [
       "<AxesSubplot:title={'center':'Reservoir Permeability Grids'}>"
      ]
     },
     "execution_count": 77,
     "metadata": {},
     "output_type": "execute_result"
    },
    {
     "data": {
      "image/png": "[encoded data removed]",
      "text/plain": [
       "<Figure size 720x576 with 2 Axes>"
      ]
     },
     "metadata": {
      "needs_background": "light"
     },
     "output_type": "display_data"
    }
   ],
   "source": [
    "plt.figure(figsize = (10,8))\n",
    "plt.title('Reservoir Permeability Grids')\n",
    "sns.heatmap(perm,annot=True)"
   ]
  },
  {
   "cell_type": "code",
   "execution_count": 78,
   "id": "e09f768d",
   "metadata": {},
   "outputs": [],
   "source": [
    "perm_sliced = perm[1:3,2:4]"
   ]
  },
  {
   "cell_type": "code",
   "execution_count": 79,
   "id": "68fcb826",
   "metadata": {},
   "outputs": [
    {
     "data": {
      "text/plain": [
       "array([[60,  7],\n",
       "       [45, 77]])"
      ]
     },
     "execution_count": 79,
     "metadata": {},
     "output_type": "execute_result"
    }
   ],
   "source": [
    "perm_sliced"
   ]
  },
  {
   "cell_type": "code",
   "execution_count": 80,
   "id": "95428765",
   "metadata": {},
   "outputs": [
    {
     "data": {
      "text/plain": [
       "<AxesSubplot:title={'center':'Reservoir Permeability Grids'}>"
      ]
     },
     "execution_count": 80,
     "metadata": {},
     "output_type": "execute_result"
    },
    {
     "data": {
      "image/png": "[encoded data removed]",
      "text/plain": [
       "<Figure size 720x576 with 2 Axes>"
      ]
     },
     "metadata": {
      "needs_background": "light"
     },
     "output_type": "display_data"
    }
   ],
   "source": [
    "plt.figure(figsize = (10,8))\n",
    "plt.title('Reservoir Permeability Grids')\n",
    "sns.heatmap(perm_sliced,annot=True)"
   ]
  },
  {
   "cell_type": "code",
   "execution_count": 81,
   "id": "6fa57281",
   "metadata": {},
   "outputs": [],
   "source": [
    "arr = np.array(45)"
   ]
  },
  {
   "cell_type": "code",
   "execution_count": 82,
   "id": "ae3167ef",
   "metadata": {},
   "outputs": [
    {
     "data": {
      "text/plain": [
       "0"
      ]
     },
     "execution_count": 82,
     "metadata": {},
     "output_type": "execute_result"
    }
   ],
   "source": [
    "arr.ndim"
   ]
  },
  {
   "cell_type": "code",
   "execution_count": 83,
   "id": "241ad6d4",
   "metadata": {},
   "outputs": [],
   "source": [
    "arr_1 = np.array([3])"
   ]
  },
  {
   "cell_type": "code",
   "execution_count": 84,
   "id": "af3e1dd6",
   "metadata": {},
   "outputs": [
    {
     "data": {
      "text/plain": [
       "1"
      ]
     },
     "execution_count": 84,
     "metadata": {},
     "output_type": "execute_result"
    }
   ],
   "source": [
    "arr_1.ndim"
   ]
  },
  {
   "cell_type": "markdown",
   "id": "d2641b07",
   "metadata": {},
   "source": [
    "## reshape"
   ]
  },
  {
   "cell_type": "code",
   "execution_count": 9,
   "id": "4769891b",
   "metadata": {},
   "outputs": [],
   "source": [
    "import numpy as np "
   ]
  },
  {
   "cell_type": "code",
   "execution_count": 10,
   "id": "dbafa09f",
   "metadata": {},
   "outputs": [],
   "source": [
    "perm = np.array([1,2,3,4,5,6,7,8,9,4,3,4,456,76,5,3,43,42,6,5,43,23,5,7,9,6,3,1,4,5,67,8])"
   ]
  },
  {
   "cell_type": "code",
   "execution_count": 86,
   "id": "5f8bed7d",
   "metadata": {},
   "outputs": [
    {
     "data": {
      "text/plain": [
       "(32,)"
      ]
     },
     "execution_count": 86,
     "metadata": {},
     "output_type": "execute_result"
    }
   ],
   "source": [
    "perm.shape"
   ]
  },
  {
   "cell_type": "code",
   "execution_count": 87,
   "id": "38e38f0b",
   "metadata": {},
   "outputs": [],
   "source": [
    "perm_2d = perm.reshape(8,4)"
   ]
  },
  {
   "cell_type": "code",
   "execution_count": 88,
   "id": "1e294307",
   "metadata": {},
   "outputs": [
    {
     "data": {
      "text/plain": [
       "array([[  1,   2,   3,   4],\n",
       "       [  5,   6,   7,   8],\n",
       "       [  9,   4,   3,   4],\n",
       "       [456,  76,   5,   3],\n",
       "       [ 43,  42,   6,   5],\n",
       "       [ 43,  23,   5,   7],\n",
       "       [  9,   6,   3,   1],\n",
       "       [  4,   5,  67,   8]])"
      ]
     },
     "execution_count": 88,
     "metadata": {},
     "output_type": "execute_result"
    }
   ],
   "source": [
    "perm_2d"
   ]
  },
  {
   "cell_type": "code",
   "execution_count": 89,
   "id": "1414e5fc",
   "metadata": {},
   "outputs": [],
   "source": [
    "perm_2d = perm.reshape(4,8)"
   ]
  },
  {
   "cell_type": "code",
   "execution_count": 90,
   "id": "4b9e6bd6",
   "metadata": {},
   "outputs": [
    {
     "data": {
      "text/plain": [
       "array([[  1,   2,   3,   4,   5,   6,   7,   8],\n",
       "       [  9,   4,   3,   4, 456,  76,   5,   3],\n",
       "       [ 43,  42,   6,   5,  43,  23,   5,   7],\n",
       "       [  9,   6,   3,   1,   4,   5,  67,   8]])"
      ]
     },
     "execution_count": 90,
     "metadata": {},
     "output_type": "execute_result"
    }
   ],
   "source": [
    "perm_2d"
   ]
  },
  {
   "cell_type": "code",
   "execution_count": 91,
   "id": "09adf8a2",
   "metadata": {},
   "outputs": [
    {
     "data": {
      "text/plain": [
       "array([[  1,   2],\n",
       "       [  3,   4],\n",
       "       [  5,   6],\n",
       "       [  7,   8],\n",
       "       [  9,   4],\n",
       "       [  3,   4],\n",
       "       [456,  76],\n",
       "       [  5,   3],\n",
       "       [ 43,  42],\n",
       "       [  6,   5],\n",
       "       [ 43,  23],\n",
       "       [  5,   7],\n",
       "       [  9,   6],\n",
       "       [  3,   1],\n",
       "       [  4,   5],\n",
       "       [ 67,   8]])"
      ]
     },
     "execution_count": 91,
     "metadata": {},
     "output_type": "execute_result"
    }
   ],
   "source": [
    "perm.reshape(16,2)"
   ]
  },
  {
   "cell_type": "code",
   "execution_count": 92,
   "id": "34a4bb1a",
   "metadata": {},
   "outputs": [],
   "source": [
    "perm_3d_from2d = perm_2d.reshape(2,4,4)"
   ]
  },
  {
   "cell_type": "code",
   "execution_count": 93,
   "id": "2b62941c",
   "metadata": {},
   "outputs": [
    {
     "data": {
      "text/plain": [
       "array([[[  1,   2,   3,   4],\n",
       "        [  5,   6,   7,   8],\n",
       "        [  9,   4,   3,   4],\n",
       "        [456,  76,   5,   3]],\n",
       "\n",
       "       [[ 43,  42,   6,   5],\n",
       "        [ 43,  23,   5,   7],\n",
       "        [  9,   6,   3,   1],\n",
       "        [  4,   5,  67,   8]]])"
      ]
     },
     "execution_count": 93,
     "metadata": {},
     "output_type": "execute_result"
    }
   ],
   "source": [
    "perm_3d_from2d"
   ]
  },
  {
   "cell_type": "code",
   "execution_count": 94,
   "id": "5d6d37e2",
   "metadata": {},
   "outputs": [
    {
     "data": {
      "text/plain": [
       "array([[[[  1,   2,   3,   4],\n",
       "         [  5,   6,   7,   8]],\n",
       "\n",
       "        [[  9,   4,   3,   4],\n",
       "         [456,  76,   5,   3]]],\n",
       "\n",
       "\n",
       "       [[[ 43,  42,   6,   5],\n",
       "         [ 43,  23,   5,   7]],\n",
       "\n",
       "        [[  9,   6,   3,   1],\n",
       "         [  4,   5,  67,   8]]]])"
      ]
     },
     "execution_count": 94,
     "metadata": {},
     "output_type": "execute_result"
    }
   ],
   "source": [
    "perm.reshape(2,2,2,4)"
   ]
  },
  {
   "cell_type": "code",
   "execution_count": 95,
   "id": "87d87b01",
   "metadata": {},
   "outputs": [
    {
     "data": {
      "text/plain": [
       "4"
      ]
     },
     "execution_count": 95,
     "metadata": {},
     "output_type": "execute_result"
    }
   ],
   "source": [
    "perm.reshape(2,2,2,4).ndim"
   ]
  },
  {
   "cell_type": "code",
   "execution_count": 96,
   "id": "5bd488c3",
   "metadata": {},
   "outputs": [
    {
     "data": {
      "text/plain": [
       "array([[[[[  1,   2],\n",
       "          [  3,   4]],\n",
       "\n",
       "         [[  5,   6],\n",
       "          [  7,   8]]],\n",
       "\n",
       "\n",
       "        [[[  9,   4],\n",
       "          [  3,   4]],\n",
       "\n",
       "         [[456,  76],\n",
       "          [  5,   3]]]],\n",
       "\n",
       "\n",
       "\n",
       "       [[[[ 43,  42],\n",
       "          [  6,   5]],\n",
       "\n",
       "         [[ 43,  23],\n",
       "          [  5,   7]]],\n",
       "\n",
       "\n",
       "        [[[  9,   6],\n",
       "          [  3,   1]],\n",
       "\n",
       "         [[  4,   5],\n",
       "          [ 67,   8]]]]])"
      ]
     },
     "execution_count": 96,
     "metadata": {},
     "output_type": "execute_result"
    }
   ],
   "source": [
    "perm.reshape(2,2,2,2,2)"
   ]
  },
  {
   "cell_type": "code",
   "execution_count": 97,
   "id": "0a6d1324",
   "metadata": {},
   "outputs": [
    {
     "data": {
      "text/plain": [
       "5"
      ]
     },
     "execution_count": 97,
     "metadata": {},
     "output_type": "execute_result"
    }
   ],
   "source": [
    "perm.reshape(2,2,2,2,2).ndim"
   ]
  },
  {
   "cell_type": "code",
   "execution_count": 11,
   "id": "384724a2",
   "metadata": {},
   "outputs": [
    {
     "data": {
      "text/plain": [
       "array([  1,   2,   3,   4,   5,   6,   7,   8,   9,   4,   3,   4, 456,\n",
       "        76,   5,   3,  43,  42,   6,   5,  43,  23,   5,   7,   9,   6,\n",
       "         3,   1,   4,   5,  67,   8])"
      ]
     },
     "execution_count": 11,
     "metadata": {},
     "output_type": "execute_result"
    }
   ],
   "source": [
    "perm"
   ]
  },
  {
   "cell_type": "code",
   "execution_count": 12,
   "id": "ed4df44c",
   "metadata": {},
   "outputs": [
    {
     "data": {
      "text/plain": [
       "7"
      ]
     },
     "execution_count": 12,
     "metadata": {},
     "output_type": "execute_result"
    }
   ],
   "source": [
    "perm.reshape(2,1,2,1,2,2,2).ndim"
   ]
  },
  {
   "cell_type": "code",
   "execution_count": 13,
   "id": "c621f533",
   "metadata": {},
   "outputs": [
    {
     "data": {
      "text/plain": [
       "(32,)"
      ]
     },
     "execution_count": 13,
     "metadata": {},
     "output_type": "execute_result"
    }
   ],
   "source": [
    "perm.shape"
   ]
  },
  {
   "cell_type": "code",
   "execution_count": 14,
   "id": "16d1f2ba",
   "metadata": {},
   "outputs": [
    {
     "data": {
      "text/plain": [
       "array([[  1,   2,   3,   4],\n",
       "       [  5,   6,   7,   8],\n",
       "       [  9,   4,   3,   4],\n",
       "       [456,  76,   5,   3],\n",
       "       [ 43,  42,   6,   5],\n",
       "       [ 43,  23,   5,   7],\n",
       "       [  9,   6,   3,   1],\n",
       "       [  4,   5,  67,   8]])"
      ]
     },
     "execution_count": 14,
     "metadata": {},
     "output_type": "execute_result"
    }
   ],
   "source": [
    "perm.reshape(8,-1)"
   ]
  },
  {
   "cell_type": "code",
   "execution_count": 15,
   "id": "ab61fdab",
   "metadata": {},
   "outputs": [
    {
     "data": {
      "text/plain": [
       "array([[  1,   2,   3,   4,   5,   6,   7,   8],\n",
       "       [  9,   4,   3,   4, 456,  76,   5,   3],\n",
       "       [ 43,  42,   6,   5,  43,  23,   5,   7],\n",
       "       [  9,   6,   3,   1,   4,   5,  67,   8]])"
      ]
     },
     "execution_count": 15,
     "metadata": {},
     "output_type": "execute_result"
    }
   ],
   "source": [
    "perm.reshape(-1,8)"
   ]
  },
  {
   "cell_type": "code",
   "execution_count": 16,
   "id": "d4a25d11",
   "metadata": {},
   "outputs": [
    {
     "data": {
      "text/plain": [
       "(1, 32)"
      ]
     },
     "execution_count": 16,
     "metadata": {},
     "output_type": "execute_result"
    }
   ],
   "source": [
    "perm.reshape(1,-1).shape"
   ]
  },
  {
   "cell_type": "code",
   "execution_count": 17,
   "id": "0ca07b0c",
   "metadata": {},
   "outputs": [
    {
     "data": {
      "text/plain": [
       "array([[  1],\n",
       "       [  2],\n",
       "       [  3],\n",
       "       [  4],\n",
       "       [  5],\n",
       "       [  6],\n",
       "       [  7],\n",
       "       [  8],\n",
       "       [  9],\n",
       "       [  4],\n",
       "       [  3],\n",
       "       [  4],\n",
       "       [456],\n",
       "       [ 76],\n",
       "       [  5],\n",
       "       [  3],\n",
       "       [ 43],\n",
       "       [ 42],\n",
       "       [  6],\n",
       "       [  5],\n",
       "       [ 43],\n",
       "       [ 23],\n",
       "       [  5],\n",
       "       [  7],\n",
       "       [  9],\n",
       "       [  6],\n",
       "       [  3],\n",
       "       [  1],\n",
       "       [  4],\n",
       "       [  5],\n",
       "       [ 67],\n",
       "       [  8]])"
      ]
     },
     "execution_count": 17,
     "metadata": {},
     "output_type": "execute_result"
    }
   ],
   "source": [
    "perm.reshape(-1,1)"
   ]
  },
  {
   "cell_type": "code",
   "execution_count": 18,
   "id": "bd791437",
   "metadata": {},
   "outputs": [
    {
     "data": {
      "text/plain": [
       "array([[  1,   2,   3,   4],\n",
       "       [  5,   6,   7,   8],\n",
       "       [  9,   4,   3,   4],\n",
       "       [456,  76,   5,   3],\n",
       "       [ 43,  42,   6,   5],\n",
       "       [ 43,  23,   5,   7],\n",
       "       [  9,   6,   3,   1],\n",
       "       [  4,   5,  67,   8]])"
      ]
     },
     "execution_count": 18,
     "metadata": {},
     "output_type": "execute_result"
    }
   ],
   "source": [
    "perm.reshape(8,-100)"
   ]
  },
  {
   "cell_type": "code",
   "execution_count": 19,
   "id": "a311f8a6",
   "metadata": {},
   "outputs": [
    {
     "data": {
      "text/plain": [
       "array([[[  1,   2],\n",
       "        [  3,   4],\n",
       "        [  5,   6],\n",
       "        [  7,   8]],\n",
       "\n",
       "       [[  9,   4],\n",
       "        [  3,   4],\n",
       "        [456,  76],\n",
       "        [  5,   3]],\n",
       "\n",
       "       [[ 43,  42],\n",
       "        [  6,   5],\n",
       "        [ 43,  23],\n",
       "        [  5,   7]],\n",
       "\n",
       "       [[  9,   6],\n",
       "        [  3,   1],\n",
       "        [  4,   5],\n",
       "        [ 67,   8]]])"
      ]
     },
     "execution_count": 19,
     "metadata": {},
     "output_type": "execute_result"
    }
   ],
   "source": [
    "perm.reshape(-1,4,2)"
   ]
  },
  {
   "cell_type": "code",
   "execution_count": 20,
   "id": "eca63357",
   "metadata": {},
   "outputs": [
    {
     "data": {
      "text/plain": [
       "(4, 4, 2)"
      ]
     },
     "execution_count": 20,
     "metadata": {},
     "output_type": "execute_result"
    }
   ],
   "source": [
    "perm.reshape(-1,4,2).shape"
   ]
  },
  {
   "cell_type": "code",
   "execution_count": 21,
   "id": "03cfeea5",
   "metadata": {},
   "outputs": [
    {
     "data": {
      "text/plain": [
       "array([[[[  1,   2],\n",
       "         [  3,   4]],\n",
       "\n",
       "        [[  5,   6],\n",
       "         [  7,   8]]],\n",
       "\n",
       "\n",
       "       [[[  9,   4],\n",
       "         [  3,   4]],\n",
       "\n",
       "        [[456,  76],\n",
       "         [  5,   3]]],\n",
       "\n",
       "\n",
       "       [[[ 43,  42],\n",
       "         [  6,   5]],\n",
       "\n",
       "        [[ 43,  23],\n",
       "         [  5,   7]]],\n",
       "\n",
       "\n",
       "       [[[  9,   6],\n",
       "         [  3,   1]],\n",
       "\n",
       "        [[  4,   5],\n",
       "         [ 67,   8]]]])"
      ]
     },
     "execution_count": 21,
     "metadata": {},
     "output_type": "execute_result"
    }
   ],
   "source": [
    "perm.reshape(-1,2,2,2)"
   ]
  },
  {
   "cell_type": "markdown",
   "id": "19b1c2e9",
   "metadata": {},
   "source": [
    "## Random Number Generation"
   ]
  },
  {
   "cell_type": "code",
   "execution_count": 22,
   "id": "a9226cbc",
   "metadata": {},
   "outputs": [],
   "source": [
    "## techniques for random number generation that doesn't follow probability distribution"
   ]
  },
  {
   "cell_type": "code",
   "execution_count": null,
   "id": "cf268a02",
   "metadata": {},
   "outputs": [],
   "source": [
    "# => np.random.randint(min,max,shape)"
   ]
  },
  {
   "cell_type": "code",
   "execution_count": 23,
   "id": "32388642",
   "metadata": {},
   "outputs": [],
   "source": [
    "perm = np.random.randint(50,55,(4,5))"
   ]
  },
  {
   "cell_type": "code",
   "execution_count": 24,
   "id": "4308e0ab",
   "metadata": {},
   "outputs": [
    {
     "data": {
      "text/plain": [
       "array([[54, 50, 51, 54, 53],\n",
       "       [52, 52, 51, 52, 53],\n",
       "       [52, 52, 50, 50, 52],\n",
       "       [54, 54, 54, 54, 51]])"
      ]
     },
     "execution_count": 24,
     "metadata": {},
     "output_type": "execute_result"
    }
   ],
   "source": [
    "perm"
   ]
  },
  {
   "cell_type": "code",
   "execution_count": 19,
   "id": "3ad791b0",
   "metadata": {},
   "outputs": [],
   "source": [
    "np.random.seed(2)\n",
    "perm = np.random.randint(50,55,(4,4,5))"
   ]
  },
  {
   "cell_type": "code",
   "execution_count": 20,
   "id": "fb74c132",
   "metadata": {},
   "outputs": [
    {
     "data": {
      "text/plain": [
       "array([[[50, 50, 53, 52, 53],\n",
       "        [50, 52, 51, 53, 52],\n",
       "        [54, 54, 54, 53, 54],\n",
       "        [52, 53, 53, 52, 51]],\n",
       "\n",
       "       [[52, 54, 53, 50, 54],\n",
       "        [53, 51, 52, 50, 54],\n",
       "        [54, 52, 54, 52, 51],\n",
       "        [50, 52, 52, 51, 50]],\n",
       "\n",
       "       [[51, 50, 52, 51, 51],\n",
       "        [51, 54, 52, 53, 50],\n",
       "        [53, 50, 52, 52, 50],\n",
       "        [54, 52, 50, 52, 54]],\n",
       "\n",
       "       [[51, 53, 50, 52, 51],\n",
       "        [54, 50, 51, 51, 51],\n",
       "        [52, 54, 52, 53, 54],\n",
       "        [52, 50, 52, 53, 53]]])"
      ]
     },
     "execution_count": 20,
     "metadata": {},
     "output_type": "execute_result"
    }
   ],
   "source": [
    "perm"
   ]
  },
  {
   "cell_type": "code",
   "execution_count": 8,
   "id": "145280c6",
   "metadata": {},
   "outputs": [],
   "source": [
    "# Rand=> 0 and 1"
   ]
  },
  {
   "cell_type": "code",
   "execution_count": 9,
   "id": "8966179f",
   "metadata": {},
   "outputs": [],
   "source": [
    "#syntax = np.random.rand(shape)"
   ]
  },
  {
   "cell_type": "code",
   "execution_count": 17,
   "id": "52762b8c",
   "metadata": {},
   "outputs": [],
   "source": [
    "np.random.seed(2)\n",
    "saturation = np.random.rand(2,3,2)"
   ]
  },
  {
   "cell_type": "code",
   "execution_count": 18,
   "id": "4dff4fd0",
   "metadata": {},
   "outputs": [
    {
     "data": {
      "text/plain": [
       "array([[[0.4359949 , 0.02592623],\n",
       "        [0.54966248, 0.43532239],\n",
       "        [0.4203678 , 0.33033482]],\n",
       "\n",
       "       [[0.20464863, 0.61927097],\n",
       "        [0.29965467, 0.26682728],\n",
       "        [0.62113383, 0.52914209]]])"
      ]
     },
     "execution_count": 18,
     "metadata": {},
     "output_type": "execute_result"
    }
   ],
   "source": [
    "saturation"
   ]
  },
  {
   "cell_type": "code",
   "execution_count": 12,
   "id": "55889de6",
   "metadata": {},
   "outputs": [],
   "source": [
    "## Float values betwwen 10 to 200 of shape 4,3,5"
   ]
  },
  {
   "cell_type": "code",
   "execution_count": 22,
   "id": "99e49fea",
   "metadata": {},
   "outputs": [],
   "source": [
    "perm_int = np.random.randint(10,200,(4,3,5))"
   ]
  },
  {
   "cell_type": "code",
   "execution_count": 23,
   "id": "895cc326",
   "metadata": {},
   "outputs": [
    {
     "data": {
      "text/plain": [
       "array([[[ 26,  65, 133, 159,  53],\n",
       "        [178,  80, 175,  69,  27],\n",
       "        [153, 168,  36,  49,  73]],\n",
       "\n",
       "       [[158, 160, 197, 187, 110],\n",
       "        [ 37,  10,  72, 178, 196],\n",
       "        [102,  46,  73,  85, 120]],\n",
       "\n",
       "       [[ 60, 145, 187,  92, 139],\n",
       "        [ 59,  50, 118,  56, 197],\n",
       "        [ 83,  88, 120, 105,  42]],\n",
       "\n",
       "       [[129,  26, 159, 181,  68],\n",
       "        [ 31, 187, 102,  61, 107],\n",
       "        [ 18, 117,  96,  98, 121]]])"
      ]
     },
     "execution_count": 23,
     "metadata": {},
     "output_type": "execute_result"
    }
   ],
   "source": [
    "perm_int"
   ]
  },
  {
   "cell_type": "code",
   "execution_count": 28,
   "id": "fe000d19",
   "metadata": {},
   "outputs": [],
   "source": [
    "perm_float = np.random.rand(4,3,5)"
   ]
  },
  {
   "cell_type": "code",
   "execution_count": 29,
   "id": "24a27377",
   "metadata": {},
   "outputs": [
    {
     "data": {
      "text/plain": [
       "array([[[0.97399937, 0.75601301, 0.94742334, 0.18328479, 0.98730486],\n",
       "        [0.04041978, 0.39521406, 0.59854638, 0.15048646, 0.17444283],\n",
       "        [0.14867633, 0.01323703, 0.00154074, 0.04126912, 0.42563924]],\n",
       "\n",
       "       [[0.9643969 , 0.18268633, 0.74503826, 0.33966327, 0.65109219],\n",
       "        [0.64111656, 0.22310262, 0.75025327, 0.4540783 , 0.17564469],\n",
       "        [0.25501423, 0.72563008, 0.39097426, 0.38658346, 0.7346853 ]],\n",
       "\n",
       "       [[0.97355131, 0.2423375 , 0.20661875, 0.42440936, 0.71793482],\n",
       "        [0.85167227, 0.35072354, 0.36329464, 0.33629297, 0.40617844],\n",
       "        [0.06030761, 0.12884488, 0.51852503, 0.88352168, 0.16333927]],\n",
       "\n",
       "       [[0.72806294, 0.21790732, 0.83496585, 0.10067566, 0.36547838],\n",
       "        [0.58909711, 0.470695  , 0.36588657, 0.97054776, 0.53238491],\n",
       "        [0.40279494, 0.04124595, 0.27990716, 0.6665541 , 0.01852959]]])"
      ]
     },
     "execution_count": 29,
     "metadata": {},
     "output_type": "execute_result"
    }
   ],
   "source": [
    "perm_float"
   ]
  },
  {
   "cell_type": "code",
   "execution_count": 30,
   "id": "19cc0f96",
   "metadata": {},
   "outputs": [
    {
     "data": {
      "text/plain": [
       "array([[[ 26.97399937,  65.75601301, 133.94742334, 159.18328479,\n",
       "          53.98730486],\n",
       "        [178.04041978,  80.39521406, 175.59854638,  69.15048646,\n",
       "          27.17444283],\n",
       "        [153.14867633, 168.01323703,  36.00154074,  49.04126912,\n",
       "          73.42563924]],\n",
       "\n",
       "       [[158.9643969 , 160.18268633, 197.74503826, 187.33966327,\n",
       "         110.65109219],\n",
       "        [ 37.64111656,  10.22310262,  72.75025327, 178.4540783 ,\n",
       "         196.17564469],\n",
       "        [102.25501423,  46.72563008,  73.39097426,  85.38658346,\n",
       "         120.7346853 ]],\n",
       "\n",
       "       [[ 60.97355131, 145.2423375 , 187.20661875,  92.42440936,\n",
       "         139.71793482],\n",
       "        [ 59.85167227,  50.35072354, 118.36329464,  56.33629297,\n",
       "         197.40617844],\n",
       "        [ 83.06030761,  88.12884488, 120.51852503, 105.88352168,\n",
       "          42.16333927]],\n",
       "\n",
       "       [[129.72806294,  26.21790732, 159.83496585, 181.10067566,\n",
       "          68.36547838],\n",
       "        [ 31.58909711, 187.470695  , 102.36588657,  61.97054776,\n",
       "         107.53238491],\n",
       "        [ 18.40279494, 117.04124595,  96.27990716,  98.6665541 ,\n",
       "         121.01852959]]])"
      ]
     },
     "execution_count": 30,
     "metadata": {},
     "output_type": "execute_result"
    }
   ],
   "source": [
    "perm_int+perm_float"
   ]
  },
  {
   "cell_type": "markdown",
   "id": "f2b11555",
   "metadata": {},
   "source": [
    "##  Choice"
   ]
  },
  {
   "cell_type": "code",
   "execution_count": 31,
   "id": "974a89e7",
   "metadata": {},
   "outputs": [],
   "source": [
    "#=> generate random values from the provided values"
   ]
  },
  {
   "cell_type": "code",
   "execution_count": 34,
   "id": "2b600a34",
   "metadata": {},
   "outputs": [
    {
     "data": {
      "text/plain": [
       "array([4, 5, 9, 8, 2, 4, 4])"
      ]
     },
     "execution_count": 34,
     "metadata": {},
     "output_type": "execute_result"
    }
   ],
   "source": [
    "np.random.choice([5,4,9,2,8],size = (7,))"
   ]
  },
  {
   "cell_type": "code",
   "execution_count": 35,
   "id": "559373e4",
   "metadata": {},
   "outputs": [
    {
     "data": {
      "text/plain": [
       "array([5, 9, 5, 5, 9, 9, 5, 9])"
      ]
     },
     "execution_count": 35,
     "metadata": {},
     "output_type": "execute_result"
    }
   ],
   "source": [
    "np.random.choice([5,4,9,2,8],size = (8,),p = [0.5,0,0.5,0,0])"
   ]
  },
  {
   "cell_type": "markdown",
   "id": "1f16e626",
   "metadata": {},
   "source": [
    "## Uniform"
   ]
  },
  {
   "cell_type": "code",
   "execution_count": 54,
   "id": "0cade6b8",
   "metadata": {},
   "outputs": [],
   "source": [
    "perm = np.random.uniform(1,10,100000)"
   ]
  },
  {
   "cell_type": "code",
   "execution_count": 55,
   "id": "738dacee",
   "metadata": {},
   "outputs": [
    {
     "data": {
      "text/plain": [
       "array([8.06153582, 7.60920813, 5.1242965 , ..., 6.95009693, 1.3666715 ,\n",
       "       5.91152913])"
      ]
     },
     "execution_count": 55,
     "metadata": {},
     "output_type": "execute_result"
    }
   ],
   "source": [
    "perm"
   ]
  },
  {
   "cell_type": "code",
   "execution_count": 56,
   "id": "ad781b5f",
   "metadata": {},
   "outputs": [],
   "source": [
    "import matplotlib.pyplot as plt\n",
    "import seaborn as sns"
   ]
  },
  {
   "cell_type": "code",
   "execution_count": 57,
   "id": "81d968be",
   "metadata": {},
   "outputs": [
    {
     "data": {
      "text/plain": [
       "<AxesSubplot:ylabel='Count'>"
      ]
     },
     "execution_count": 57,
     "metadata": {},
     "output_type": "execute_result"
    },
    {
     "data": {
      "image/png": "[encoded data removed]",
      "text/plain": [
       "<Figure size 432x288 with 1 Axes>"
      ]
     },
     "metadata": {
      "needs_background": "light"
     },
     "output_type": "display_data"
    }
   ],
   "source": [
    "sns.histplot(perm)"
   ]
  },
  {
   "cell_type": "code",
   "execution_count": 51,
   "id": "26454616",
   "metadata": {},
   "outputs": [],
   "source": [
    "perm = np.random.choice([1,2,3,4,5,6,7,8,9,10], p =[0.1,0.1,0.1,0.1,0.1,0.1,0.1,0.1,0.1,0.1], size = 10000)"
   ]
  },
  {
   "cell_type": "code",
   "execution_count": 52,
   "id": "1615c82c",
   "metadata": {},
   "outputs": [
    {
     "data": {
      "text/plain": [
       "array([ 5,  7,  5, ...,  7,  9, 10])"
      ]
     },
     "execution_count": 52,
     "metadata": {},
     "output_type": "execute_result"
    }
   ],
   "source": [
    "perm"
   ]
  },
  {
   "cell_type": "code",
   "execution_count": 53,
   "id": "09ba12e9",
   "metadata": {},
   "outputs": [
    {
     "data": {
      "text/plain": [
       "<AxesSubplot:ylabel='Count'>"
      ]
     },
     "execution_count": 53,
     "metadata": {},
     "output_type": "execute_result"
    },
    {
     "data": {
      "image/png": "[encoded data removed]",
      "text/plain": [
       "<Figure size 432x288 with 1 Axes>"
      ]
     },
     "metadata": {
      "needs_background": "light"
     },
     "output_type": "display_data"
    }
   ],
   "source": [
    "sns.histplot(perm)"
   ]
  },
  {
   "cell_type": "markdown",
   "id": "fa3847b0",
   "metadata": {},
   "source": [
    "## Normal"
   ]
  },
  {
   "cell_type": "code",
   "execution_count": 58,
   "id": "3fbbbe26",
   "metadata": {},
   "outputs": [],
   "source": [
    "## syntax = > np.random.normal(loc = mean, scale = standard deviation,size)"
   ]
  },
  {
   "cell_type": "code",
   "execution_count": 59,
   "id": "c9456b30",
   "metadata": {},
   "outputs": [],
   "source": [
    "x1 = np.random.normal(loc = 5,scale = 5,size=(10000))\n",
    "y1 = np.random.normal(loc = 25,scale = 10,size=(10000))"
   ]
  },
  {
   "cell_type": "code",
   "execution_count": 60,
   "id": "69326980",
   "metadata": {},
   "outputs": [
    {
     "name": "stderr",
     "output_type": "stream",
     "text": [
      "C:\\Users\\Dell\\anaconda3\\lib\\site-packages\\seaborn\\distributions.py:2557: FutureWarning: `distplot` is a deprecated function and will be removed in a future version. Please adapt your code to use either `displot` (a figure-level function with similar flexibility) or `histplot` (an axes-level function for histograms).\n",
      "  warnings.warn(msg, FutureWarning)\n",
      "C:\\Users\\Dell\\anaconda3\\lib\\site-packages\\seaborn\\distributions.py:2557: FutureWarning: `distplot` is a deprecated function and will be removed in a future version. Please adapt your code to use either `displot` (a figure-level function with similar flexibility) or `histplot` (an axes-level function for histograms).\n",
      "  warnings.warn(msg, FutureWarning)\n"
     ]
    },
    {
     "data": {
      "image/png": "[encoded data removed]",
      "text/plain": [
       "<Figure size 432x288 with 1 Axes>"
      ]
     },
     "metadata": {
      "needs_background": "light"
     },
     "output_type": "display_data"
    }
   ],
   "source": [
    "sns.distplot(x1,color = 'blue')\n",
    "sns.distplot(y1,color='red')\n",
    "plt.grid(True)"
   ]
  },
  {
   "cell_type": "code",
   "execution_count": 65,
   "id": "dabcdb4b",
   "metadata": {},
   "outputs": [],
   "source": [
    "x1 = np.random.normal(loc = 5,scale = 5,size=(10000))"
   ]
  },
  {
   "cell_type": "code",
   "execution_count": 66,
   "id": "0e97fb29",
   "metadata": {},
   "outputs": [
    {
     "data": {
      "text/plain": [
       "array([13.54940421, -4.75735268,  5.50394764, ...,  9.0809857 ,\n",
       "        7.99968326,  1.70231993])"
      ]
     },
     "execution_count": 66,
     "metadata": {},
     "output_type": "execute_result"
    }
   ],
   "source": [
    "x1"
   ]
  },
  {
   "cell_type": "code",
   "execution_count": 69,
   "id": "a825168d",
   "metadata": {},
   "outputs": [],
   "source": [
    "x1 = np.random.normal(loc = 5,scale = 5,size=(4,5))"
   ]
  },
  {
   "cell_type": "code",
   "execution_count": 70,
   "id": "b776a2e2",
   "metadata": {},
   "outputs": [
    {
     "data": {
      "text/plain": [
       "array([[ 4.32127455, 15.17394591,  6.75765561,  4.0315369 ,  4.390762  ],\n",
       "       [ 3.89574101, 15.96493066,  6.75536255,  8.54277594,  2.12671619],\n",
       "       [ 3.54884958, 11.86392578,  9.1066806 ,  1.93540375,  4.88371355],\n",
       "       [ 2.56034778,  6.83993884, -7.61995263,  4.02910807,  4.28588946]])"
      ]
     },
     "execution_count": 70,
     "metadata": {},
     "output_type": "execute_result"
    }
   ],
   "source": [
    "x1"
   ]
  },
  {
   "cell_type": "markdown",
   "id": "971563f0",
   "metadata": {},
   "source": [
    "## Standard Normal Distribution - mean=0, std=1"
   ]
  },
  {
   "cell_type": "code",
   "execution_count": 71,
   "id": "0732cd0d",
   "metadata": {},
   "outputs": [],
   "source": [
    "x = np.random.randn(10000)"
   ]
  },
  {
   "cell_type": "code",
   "execution_count": 72,
   "id": "a1a73835",
   "metadata": {},
   "outputs": [
    {
     "name": "stderr",
     "output_type": "stream",
     "text": [
      "C:\\Users\\Dell\\anaconda3\\lib\\site-packages\\seaborn\\distributions.py:2557: FutureWarning: `distplot` is a deprecated function and will be removed in a future version. Please adapt your code to use either `displot` (a figure-level function with similar flexibility) or `histplot` (an axes-level function for histograms).\n",
      "  warnings.warn(msg, FutureWarning)\n"
     ]
    },
    {
     "data": {
      "text/plain": [
       "<AxesSubplot:ylabel='Density'>"
      ]
     },
     "execution_count": 72,
     "metadata": {},
     "output_type": "execute_result"
    },
    {
     "data": {
      "image/png": "[encoded data removed]",
      "text/plain": [
       "<Figure size 432x288 with 1 Axes>"
      ]
     },
     "metadata": {
      "needs_background": "light"
     },
     "output_type": "display_data"
    }
   ],
   "source": [
    "sns.distplot(x)"
   ]
  },
  {
   "cell_type": "code",
   "execution_count": 73,
   "id": "d01d2fba",
   "metadata": {},
   "outputs": [],
   "source": [
    "y = np.random.normal(loc = 0,scale = 1,size=(10000))"
   ]
  },
  {
   "cell_type": "code",
   "execution_count": 74,
   "id": "8f266e1f",
   "metadata": {},
   "outputs": [
    {
     "name": "stderr",
     "output_type": "stream",
     "text": [
      "C:\\Users\\Dell\\anaconda3\\lib\\site-packages\\seaborn\\distributions.py:2557: FutureWarning: `distplot` is a deprecated function and will be removed in a future version. Please adapt your code to use either `displot` (a figure-level function with similar flexibility) or `histplot` (an axes-level function for histograms).\n",
      "  warnings.warn(msg, FutureWarning)\n"
     ]
    },
    {
     "data": {
      "text/plain": [
       "<AxesSubplot:ylabel='Density'>"
      ]
     },
     "execution_count": 74,
     "metadata": {},
     "output_type": "execute_result"
    },
    {
     "data": {
      "image/png": "[encoded data removed]",
      "text/plain": [
       "<Figure size 432x288 with 1 Axes>"
      ]
     },
     "metadata": {
      "needs_background": "light"
     },
     "output_type": "display_data"
    }
   ],
   "source": [
    "sns.distplot(y)"
   ]
  },
  {
   "cell_type": "markdown",
   "id": "81b227db",
   "metadata": {},
   "source": [
    "## Numpy Functions"
   ]
  },
  {
   "cell_type": "code",
   "execution_count": 75,
   "id": "d4d29fad",
   "metadata": {},
   "outputs": [],
   "source": [
    "## Arithmetic Functions"
   ]
  },
  {
   "cell_type": "code",
   "execution_count": 76,
   "id": "23f9828d",
   "metadata": {},
   "outputs": [],
   "source": [
    "#List \n",
    "a = [1,2,3,4,5,6]\n",
    "b = [3,4,5,6,7,8]"
   ]
  },
  {
   "cell_type": "code",
   "execution_count": 77,
   "id": "51e0e11e",
   "metadata": {},
   "outputs": [
    {
     "data": {
      "text/plain": [
       "[1, 2, 3, 4, 5, 6, 3, 4, 5, 6, 7, 8]"
      ]
     },
     "execution_count": 77,
     "metadata": {},
     "output_type": "execute_result"
    }
   ],
   "source": [
    "a+b"
   ]
  },
  {
   "cell_type": "code",
   "execution_count": 78,
   "id": "b2d9d034",
   "metadata": {},
   "outputs": [],
   "source": [
    "c = []\n",
    "for i,j in zip(a,b):\n",
    "    c.append(i+j)"
   ]
  },
  {
   "cell_type": "code",
   "execution_count": 79,
   "id": "58dbd84c",
   "metadata": {},
   "outputs": [
    {
     "data": {
      "text/plain": [
       "[4, 6, 8, 10, 12, 14]"
      ]
     },
     "execution_count": 79,
     "metadata": {},
     "output_type": "execute_result"
    }
   ],
   "source": [
    "c"
   ]
  },
  {
   "cell_type": "code",
   "execution_count": 80,
   "id": "91df331b",
   "metadata": {},
   "outputs": [],
   "source": [
    "ara = np.array(a)\n",
    "arb = np.array(b)"
   ]
  },
  {
   "cell_type": "code",
   "execution_count": 81,
   "id": "b87eff54",
   "metadata": {},
   "outputs": [
    {
     "data": {
      "text/plain": [
       "array([ 4,  6,  8, 10, 12, 14])"
      ]
     },
     "execution_count": 81,
     "metadata": {},
     "output_type": "execute_result"
    }
   ],
   "source": [
    "ara+arb"
   ]
  },
  {
   "cell_type": "code",
   "execution_count": 82,
   "id": "b2fc1d80",
   "metadata": {},
   "outputs": [
    {
     "ename": "TypeError",
     "evalue": "can't multiply sequence by non-int of type 'list'",
     "output_type": "error",
     "traceback": [
      "\u001b[1;31m---------------------------------------------------------------------------\u001b[0m",
      "\u001b[1;31mTypeError\u001b[0m                                 Traceback (most recent call last)",
      "\u001b[1;32m<ipython-input-82-8ce765dcfa30>\u001b[0m in \u001b[0;36m<module>\u001b[1;34m\u001b[0m\n\u001b[1;32m----> 1\u001b[1;33m \u001b[0ma\u001b[0m\u001b[1;33m*\u001b[0m\u001b[0mb\u001b[0m\u001b[1;33m\u001b[0m\u001b[1;33m\u001b[0m\u001b[0m\n\u001b[0m",
      "\u001b[1;31mTypeError\u001b[0m: can't multiply sequence by non-int of type 'list'"
     ]
    }
   ],
   "source": [
    "a*b"
   ]
  },
  {
   "cell_type": "code",
   "execution_count": 83,
   "id": "969dfdb6",
   "metadata": {},
   "outputs": [
    {
     "data": {
      "text/plain": [
       "array([ 3,  8, 15, 24, 35, 48])"
      ]
     },
     "execution_count": 83,
     "metadata": {},
     "output_type": "execute_result"
    }
   ],
   "source": [
    "ara*arb"
   ]
  },
  {
   "cell_type": "code",
   "execution_count": 84,
   "id": "018f1cc1",
   "metadata": {},
   "outputs": [
    {
     "ename": "TypeError",
     "evalue": "unsupported operand type(s) for /: 'list' and 'list'",
     "output_type": "error",
     "traceback": [
      "\u001b[1;31m---------------------------------------------------------------------------\u001b[0m",
      "\u001b[1;31mTypeError\u001b[0m                                 Traceback (most recent call last)",
      "\u001b[1;32m<ipython-input-84-aae42d317509>\u001b[0m in \u001b[0;36m<module>\u001b[1;34m\u001b[0m\n\u001b[1;32m----> 1\u001b[1;33m \u001b[0ma\u001b[0m\u001b[1;33m/\u001b[0m\u001b[0mb\u001b[0m\u001b[1;33m\u001b[0m\u001b[1;33m\u001b[0m\u001b[0m\n\u001b[0m",
      "\u001b[1;31mTypeError\u001b[0m: unsupported operand type(s) for /: 'list' and 'list'"
     ]
    }
   ],
   "source": [
    "a/b"
   ]
  },
  {
   "cell_type": "code",
   "execution_count": 85,
   "id": "68604515",
   "metadata": {},
   "outputs": [
    {
     "data": {
      "text/plain": [
       "array([0.33333333, 0.5       , 0.6       , 0.66666667, 0.71428571,\n",
       "       0.75      ])"
      ]
     },
     "execution_count": 85,
     "metadata": {},
     "output_type": "execute_result"
    }
   ],
   "source": [
    "ara/arb"
   ]
  },
  {
   "cell_type": "code",
   "execution_count": 86,
   "id": "738b90ff",
   "metadata": {},
   "outputs": [
    {
     "ename": "TypeError",
     "evalue": "unsupported operand type(s) for ** or pow(): 'list' and 'list'",
     "output_type": "error",
     "traceback": [
      "\u001b[1;31m---------------------------------------------------------------------------\u001b[0m",
      "\u001b[1;31mTypeError\u001b[0m                                 Traceback (most recent call last)",
      "\u001b[1;32m<ipython-input-86-27166ff49cce>\u001b[0m in \u001b[0;36m<module>\u001b[1;34m\u001b[0m\n\u001b[1;32m----> 1\u001b[1;33m \u001b[0ma\u001b[0m\u001b[1;33m**\u001b[0m\u001b[0mb\u001b[0m\u001b[1;33m\u001b[0m\u001b[1;33m\u001b[0m\u001b[0m\n\u001b[0m",
      "\u001b[1;31mTypeError\u001b[0m: unsupported operand type(s) for ** or pow(): 'list' and 'list'"
     ]
    }
   ],
   "source": [
    "a**b"
   ]
  },
  {
   "cell_type": "code",
   "execution_count": 87,
   "id": "f53d01f4",
   "metadata": {},
   "outputs": [
    {
     "data": {
      "text/plain": [
       "array([      1,      16,     243,    4096,   78125, 1679616], dtype=int32)"
      ]
     },
     "execution_count": 87,
     "metadata": {},
     "output_type": "execute_result"
    }
   ],
   "source": [
    "ara**arb"
   ]
  },
  {
   "cell_type": "code",
   "execution_count": 88,
   "id": "a62114c2",
   "metadata": {},
   "outputs": [
    {
     "data": {
      "text/plain": [
       "6"
      ]
     },
     "execution_count": 88,
     "metadata": {},
     "output_type": "execute_result"
    }
   ],
   "source": [
    "len(ara)"
   ]
  },
  {
   "cell_type": "code",
   "execution_count": 89,
   "id": "31520cdc",
   "metadata": {},
   "outputs": [
    {
     "data": {
      "text/plain": [
       "6"
      ]
     },
     "execution_count": 89,
     "metadata": {},
     "output_type": "execute_result"
    }
   ],
   "source": [
    "len(arb)"
   ]
  },
  {
   "cell_type": "code",
   "execution_count": 90,
   "id": "01e96777",
   "metadata": {},
   "outputs": [
    {
     "data": {
      "text/plain": [
       "(6,)"
      ]
     },
     "execution_count": 90,
     "metadata": {},
     "output_type": "execute_result"
    }
   ],
   "source": [
    "ara.shape"
   ]
  },
  {
   "cell_type": "code",
   "execution_count": 91,
   "id": "ff71fd24",
   "metadata": {},
   "outputs": [
    {
     "data": {
      "text/plain": [
       "(6,)"
      ]
     },
     "execution_count": 91,
     "metadata": {},
     "output_type": "execute_result"
    }
   ],
   "source": [
    "ara.shape"
   ]
  },
  {
   "cell_type": "code",
   "execution_count": 92,
   "id": "199d976f",
   "metadata": {},
   "outputs": [
    {
     "data": {
      "text/plain": [
       "array([1, 2, 3, 4, 5, 6])"
      ]
     },
     "execution_count": 92,
     "metadata": {},
     "output_type": "execute_result"
    }
   ],
   "source": [
    "ara"
   ]
  },
  {
   "cell_type": "code",
   "execution_count": 93,
   "id": "06c112ab",
   "metadata": {},
   "outputs": [
    {
     "data": {
      "text/plain": [
       "array([0.5, 1. , 1.5, 2. , 2.5, 3. ])"
      ]
     },
     "execution_count": 93,
     "metadata": {},
     "output_type": "execute_result"
    }
   ],
   "source": [
    "ara/2    "
   ]
  },
  {
   "cell_type": "code",
   "execution_count": 94,
   "id": "56dd8ff8",
   "metadata": {},
   "outputs": [
    {
     "data": {
      "text/plain": [
       "array([0, 1, 1, 2, 2, 3], dtype=int32)"
      ]
     },
     "execution_count": 94,
     "metadata": {},
     "output_type": "execute_result"
    }
   ],
   "source": [
    "ara//2"
   ]
  },
  {
   "cell_type": "code",
   "execution_count": 95,
   "id": "f8cc745d",
   "metadata": {},
   "outputs": [
    {
     "data": {
      "text/plain": [
       "array([1, 0, 1, 0, 1, 0], dtype=int32)"
      ]
     },
     "execution_count": 95,
     "metadata": {},
     "output_type": "execute_result"
    }
   ],
   "source": [
    "ara%2"
   ]
  },
  {
   "cell_type": "code",
   "execution_count": 96,
   "id": "1242f66c",
   "metadata": {},
   "outputs": [],
   "source": [
    "#absolute\n",
    "ar = np.array([-1,-5,6,7,8,-10])"
   ]
  },
  {
   "cell_type": "code",
   "execution_count": 98,
   "id": "f5d0c4ae",
   "metadata": {},
   "outputs": [
    {
     "data": {
      "text/plain": [
       "array([ 1,  5,  6,  7,  8, 10])"
      ]
     },
     "execution_count": 98,
     "metadata": {},
     "output_type": "execute_result"
    }
   ],
   "source": [
    "np.abs(ar)"
   ]
  },
  {
   "cell_type": "code",
   "execution_count": 99,
   "id": "215d12bf",
   "metadata": {},
   "outputs": [
    {
     "data": {
      "text/plain": [
       "array([1.        , 1.41421356, 1.73205081, 2.        , 2.23606798,\n",
       "       2.44948974])"
      ]
     },
     "execution_count": 99,
     "metadata": {},
     "output_type": "execute_result"
    }
   ],
   "source": [
    "#squareroot\n",
    "np.sqrt(ara)"
   ]
  },
  {
   "cell_type": "code",
   "execution_count": 100,
   "id": "2ce47e4b",
   "metadata": {},
   "outputs": [
    {
     "data": {
      "text/plain": [
       "[1, 2, 3, 4, 5, 6]"
      ]
     },
     "execution_count": 100,
     "metadata": {},
     "output_type": "execute_result"
    }
   ],
   "source": [
    "a"
   ]
  },
  {
   "cell_type": "code",
   "execution_count": 101,
   "id": "ab036b00",
   "metadata": {},
   "outputs": [
    {
     "ename": "TypeError",
     "evalue": "unsupported operand type(s) for /: 'list' and 'int'",
     "output_type": "error",
     "traceback": [
      "\u001b[1;31m---------------------------------------------------------------------------\u001b[0m",
      "\u001b[1;31mTypeError\u001b[0m                                 Traceback (most recent call last)",
      "\u001b[1;32m<ipython-input-101-deacdc4ccabc>\u001b[0m in \u001b[0;36m<module>\u001b[1;34m\u001b[0m\n\u001b[1;32m----> 1\u001b[1;33m \u001b[0ma\u001b[0m\u001b[1;33m/\u001b[0m\u001b[1;36m0\u001b[0m\u001b[1;33m\u001b[0m\u001b[1;33m\u001b[0m\u001b[0m\n\u001b[0m",
      "\u001b[1;31mTypeError\u001b[0m: unsupported operand type(s) for /: 'list' and 'int'"
     ]
    }
   ],
   "source": [
    "a/0"
   ]
  },
  {
   "cell_type": "code",
   "execution_count": 102,
   "id": "0c87362a",
   "metadata": {},
   "outputs": [
    {
     "name": "stderr",
     "output_type": "stream",
     "text": [
      "<ipython-input-102-4729f868b91c>:1: RuntimeWarning: divide by zero encountered in true_divide\n",
      "  ara/0\n"
     ]
    },
    {
     "data": {
      "text/plain": [
       "array([inf, inf, inf, inf, inf, inf])"
      ]
     },
     "execution_count": 102,
     "metadata": {},
     "output_type": "execute_result"
    }
   ],
   "source": [
    "ara/0"
   ]
  },
  {
   "cell_type": "code",
   "execution_count": 103,
   "id": "64ae19a6",
   "metadata": {},
   "outputs": [
    {
     "data": {
      "text/plain": [
       "inf"
      ]
     },
     "execution_count": 103,
     "metadata": {},
     "output_type": "execute_result"
    }
   ],
   "source": [
    "np.inf"
   ]
  },
  {
   "cell_type": "code",
   "execution_count": 104,
   "id": "8ae15265",
   "metadata": {},
   "outputs": [
    {
     "data": {
      "text/plain": [
       "nan"
      ]
     },
     "execution_count": 104,
     "metadata": {},
     "output_type": "execute_result"
    }
   ],
   "source": [
    "np.nan"
   ]
  },
  {
   "cell_type": "code",
   "execution_count": 105,
   "id": "91aaa788",
   "metadata": {},
   "outputs": [
    {
     "data": {
      "text/plain": [
       "array([1, 2, 3, 4, 5, 6])"
      ]
     },
     "execution_count": 105,
     "metadata": {},
     "output_type": "execute_result"
    }
   ],
   "source": [
    "ara"
   ]
  },
  {
   "cell_type": "code",
   "execution_count": 106,
   "id": "ef687f8b",
   "metadata": {},
   "outputs": [
    {
     "data": {
      "text/plain": [
       "array([3, 4, 5, 6, 7, 8])"
      ]
     },
     "execution_count": 106,
     "metadata": {},
     "output_type": "execute_result"
    }
   ],
   "source": [
    "arb"
   ]
  },
  {
   "cell_type": "code",
   "execution_count": 107,
   "id": "a4462f59",
   "metadata": {},
   "outputs": [
    {
     "data": {
      "text/plain": [
       "133"
      ]
     },
     "execution_count": 107,
     "metadata": {},
     "output_type": "execute_result"
    }
   ],
   "source": [
    "ara.dot(arb)"
   ]
  },
  {
   "cell_type": "code",
   "execution_count": 108,
   "id": "5b262e0c",
   "metadata": {},
   "outputs": [],
   "source": [
    "#Transpose\n",
    "are = np.array([[1,2,3,4],[5,6,7,8]])"
   ]
  },
  {
   "cell_type": "code",
   "execution_count": 109,
   "id": "bca85b2c",
   "metadata": {},
   "outputs": [
    {
     "data": {
      "text/plain": [
       "array([[1, 2, 3, 4],\n",
       "       [5, 6, 7, 8]])"
      ]
     },
     "execution_count": 109,
     "metadata": {},
     "output_type": "execute_result"
    }
   ],
   "source": [
    "are"
   ]
  },
  {
   "cell_type": "code",
   "execution_count": 110,
   "id": "73112cbc",
   "metadata": {},
   "outputs": [
    {
     "data": {
      "text/plain": [
       "array([[1, 5],\n",
       "       [2, 6],\n",
       "       [3, 7],\n",
       "       [4, 8]])"
      ]
     },
     "execution_count": 110,
     "metadata": {},
     "output_type": "execute_result"
    }
   ],
   "source": [
    "are.T"
   ]
  },
  {
   "cell_type": "code",
   "execution_count": 111,
   "id": "ee685460",
   "metadata": {},
   "outputs": [
    {
     "data": {
      "text/plain": [
       "(2, 4)"
      ]
     },
     "execution_count": 111,
     "metadata": {},
     "output_type": "execute_result"
    }
   ],
   "source": [
    "are.shape"
   ]
  },
  {
   "cell_type": "code",
   "execution_count": 112,
   "id": "e23e2807",
   "metadata": {},
   "outputs": [
    {
     "data": {
      "text/plain": [
       "(4, 2)"
      ]
     },
     "execution_count": 112,
     "metadata": {},
     "output_type": "execute_result"
    }
   ],
   "source": [
    "are.T.shape"
   ]
  },
  {
   "cell_type": "markdown",
   "id": "b97fba8c",
   "metadata": {},
   "source": [
    "## min,max,mean,std values"
   ]
  },
  {
   "cell_type": "code",
   "execution_count": 113,
   "id": "7b43131c",
   "metadata": {},
   "outputs": [],
   "source": [
    "ard = np.array([1,2,4,6,7,8,9,-12,-45,-110,556,342])"
   ]
  },
  {
   "cell_type": "code",
   "execution_count": 114,
   "id": "b5fd2081",
   "metadata": {},
   "outputs": [
    {
     "data": {
      "text/plain": [
       "array([   1,    2,    4,    6,    7,    8,    9,  -12,  -45, -110,  556,\n",
       "        342])"
      ]
     },
     "execution_count": 114,
     "metadata": {},
     "output_type": "execute_result"
    }
   ],
   "source": [
    "ard"
   ]
  },
  {
   "cell_type": "code",
   "execution_count": 116,
   "id": "afca5e24",
   "metadata": {},
   "outputs": [
    {
     "data": {
      "text/plain": [
       "-110"
      ]
     },
     "execution_count": 116,
     "metadata": {},
     "output_type": "execute_result"
    }
   ],
   "source": [
    "ard.min()"
   ]
  },
  {
   "cell_type": "code",
   "execution_count": 117,
   "id": "cd8209eb",
   "metadata": {},
   "outputs": [
    {
     "data": {
      "text/plain": [
       "556"
      ]
     },
     "execution_count": 117,
     "metadata": {},
     "output_type": "execute_result"
    }
   ],
   "source": [
    "ard.max()"
   ]
  },
  {
   "cell_type": "code",
   "execution_count": 118,
   "id": "fd03d42a",
   "metadata": {},
   "outputs": [
    {
     "data": {
      "text/plain": [
       "9"
      ]
     },
     "execution_count": 118,
     "metadata": {},
     "output_type": "execute_result"
    }
   ],
   "source": [
    "ard.argmin()"
   ]
  },
  {
   "cell_type": "code",
   "execution_count": 119,
   "id": "39a8097e",
   "metadata": {},
   "outputs": [
    {
     "data": {
      "text/plain": [
       "10"
      ]
     },
     "execution_count": 119,
     "metadata": {},
     "output_type": "execute_result"
    }
   ],
   "source": [
    "ard.argmax()"
   ]
  },
  {
   "cell_type": "code",
   "execution_count": 120,
   "id": "7aadf225",
   "metadata": {},
   "outputs": [
    {
     "data": {
      "text/plain": [
       "64.0"
      ]
     },
     "execution_count": 120,
     "metadata": {},
     "output_type": "execute_result"
    }
   ],
   "source": [
    "ard.mean()"
   ]
  },
  {
   "cell_type": "code",
   "execution_count": 121,
   "id": "5daae5d9",
   "metadata": {},
   "outputs": [
    {
     "data": {
      "text/plain": [
       "180.61653671060503"
      ]
     },
     "execution_count": 121,
     "metadata": {},
     "output_type": "execute_result"
    }
   ],
   "source": [
    "ard.std()"
   ]
  },
  {
   "cell_type": "markdown",
   "id": "ea0ee1d1",
   "metadata": {},
   "source": [
    "## Rounding Functions"
   ]
  },
  {
   "cell_type": "code",
   "execution_count": 122,
   "id": "21368091",
   "metadata": {},
   "outputs": [],
   "source": [
    "ar = np.array([0.4,0.89,0.000035343,1.565677,3.5,88.97567463423,-1.54656778])"
   ]
  },
  {
   "cell_type": "code",
   "execution_count": 123,
   "id": "f4f8f31f",
   "metadata": {},
   "outputs": [
    {
     "data": {
      "text/plain": [
       "array([ 4.00000000e-01,  8.90000000e-01,  3.53430000e-05,  1.56567700e+00,\n",
       "        3.50000000e+00,  8.89756746e+01, -1.54656778e+00])"
      ]
     },
     "execution_count": 123,
     "metadata": {},
     "output_type": "execute_result"
    }
   ],
   "source": [
    "ar"
   ]
  },
  {
   "cell_type": "code",
   "execution_count": 124,
   "id": "41e63743",
   "metadata": {},
   "outputs": [
    {
     "data": {
      "text/plain": [
       "array([ 0.4   ,  0.89  ,  0.    ,  1.5657,  3.5   , 88.9757, -1.5466])"
      ]
     },
     "execution_count": 124,
     "metadata": {},
     "output_type": "execute_result"
    }
   ],
   "source": [
    "ar.round(4)"
   ]
  },
  {
   "cell_type": "code",
   "execution_count": 125,
   "id": "bbc97a85",
   "metadata": {},
   "outputs": [
    {
     "data": {
      "text/plain": [
       "array([ 0.4   ,  0.89  ,  0.    ,  1.5657,  3.5   , 88.9757, -1.5466])"
      ]
     },
     "execution_count": 125,
     "metadata": {},
     "output_type": "execute_result"
    }
   ],
   "source": [
    "np.round(ar,4)"
   ]
  },
  {
   "cell_type": "markdown",
   "id": "2634901b",
   "metadata": {},
   "source": [
    "## Matrix Multiplication"
   ]
  },
  {
   "cell_type": "markdown",
   "id": "9b103dfd",
   "metadata": {},
   "source": [
    "### matrix a = n*m\n",
    "### matrix b = p*q"
   ]
  },
  {
   "cell_type": "markdown",
   "id": "764eb3de",
   "metadata": {},
   "source": [
    "matrixA * MatrixB"
   ]
  },
  {
   "cell_type": "code",
   "execution_count": 126,
   "id": "db6f8fe8",
   "metadata": {},
   "outputs": [],
   "source": [
    "ar = np.array([[2,3,4,5],[4,5,6,7]])"
   ]
  },
  {
   "cell_type": "code",
   "execution_count": 127,
   "id": "a5fb36be",
   "metadata": {},
   "outputs": [
    {
     "data": {
      "text/plain": [
       "array([[2, 3, 4, 5],\n",
       "       [4, 5, 6, 7]])"
      ]
     },
     "execution_count": 127,
     "metadata": {},
     "output_type": "execute_result"
    }
   ],
   "source": [
    "ar"
   ]
  },
  {
   "cell_type": "code",
   "execution_count": 128,
   "id": "9ca2e50d",
   "metadata": {},
   "outputs": [
    {
     "data": {
      "text/plain": [
       "(2, 4)"
      ]
     },
     "execution_count": 128,
     "metadata": {},
     "output_type": "execute_result"
    }
   ],
   "source": [
    "ar.shape"
   ]
  },
  {
   "cell_type": "code",
   "execution_count": 129,
   "id": "630ee2ec",
   "metadata": {},
   "outputs": [],
   "source": [
    "art = np.array([[1,2],[4,5],[6,7],[8,9]])"
   ]
  },
  {
   "cell_type": "code",
   "execution_count": 130,
   "id": "23aad025",
   "metadata": {},
   "outputs": [
    {
     "data": {
      "text/plain": [
       "array([[1, 2],\n",
       "       [4, 5],\n",
       "       [6, 7],\n",
       "       [8, 9]])"
      ]
     },
     "execution_count": 130,
     "metadata": {},
     "output_type": "execute_result"
    }
   ],
   "source": [
    "art"
   ]
  },
  {
   "cell_type": "code",
   "execution_count": 131,
   "id": "1b4df082",
   "metadata": {},
   "outputs": [
    {
     "data": {
      "text/plain": [
       "(4, 2)"
      ]
     },
     "execution_count": 131,
     "metadata": {},
     "output_type": "execute_result"
    }
   ],
   "source": [
    "art.shape"
   ]
  },
  {
   "cell_type": "code",
   "execution_count": 132,
   "id": "bb3d552a",
   "metadata": {},
   "outputs": [
    {
     "data": {
      "text/plain": [
       "array([[ 78,  92],\n",
       "       [116, 138]])"
      ]
     },
     "execution_count": 132,
     "metadata": {},
     "output_type": "execute_result"
    }
   ],
   "source": [
    "ar@art"
   ]
  },
  {
   "cell_type": "code",
   "execution_count": 133,
   "id": "b46a773c",
   "metadata": {},
   "outputs": [
    {
     "data": {
      "text/plain": [
       "array([[ 78,  92],\n",
       "       [116, 138]])"
      ]
     },
     "execution_count": 133,
     "metadata": {},
     "output_type": "execute_result"
    }
   ],
   "source": [
    "ar.dot(art)"
   ]
  },
  {
   "cell_type": "code",
   "execution_count": null,
   "id": "37d82e3b",
   "metadata": {},
   "outputs": [],
   "source": []
  }
 ],
 "metadata": {
  "kernelspec": {
   "display_name": "Python 3",
   "language": "python",
   "name": "python3"
  },
  "language_info": {
   "codemirror_mode": {
    "name": "ipython",
    "version": 3
   },
   "file_extension": ".py",
   "mimetype": "text/x-python",
   "name": "python",
   "nbconvert_exporter": "python",
   "pygments_lexer": "ipython3",
   "version": "3.8.8"
  }
 },
 "nbformat": 4,
 "nbformat_minor": 5
}
